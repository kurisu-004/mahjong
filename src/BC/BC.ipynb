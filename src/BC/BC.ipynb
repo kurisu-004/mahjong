{
 "cells": [
  {
   "cell_type": "markdown",
   "metadata": {},
   "source": [
    "# 1.从牌谱文件中还原对局"
   ]
  },
  {
   "cell_type": "markdown",
   "metadata": {},
   "source": [
    "#### 1.1 读取牌谱文件中的洗牌信息，并根据\\<init\\>标签初始化table"
   ]
  },
  {
   "cell_type": "code",
   "execution_count": 1,
   "metadata": {},
   "outputs": [],
   "source": [
    "from base_module import *\n",
    "import os\n",
    "\n",
    "year = 2015\n",
    "path = f'/data/satori_hdd4/Ren/dataset/{year}'\n",
    "file_name_list = os.listdir(path)\n",
    "\n",
    "\n"
   ]
  },
  {
   "cell_type": "markdown",
   "metadata": {},
   "source": [
    "## 多线程"
   ]
  },
  {
   "cell_type": "code",
   "execution_count": 2,
   "metadata": {},
   "outputs": [
    {
     "name": "stderr",
     "output_type": "stream",
     "text": [
      "100%|██████████| 100/100 [00:02<00:00, 36.12it/s]\n"
     ]
    }
   ],
   "source": [
    "from tqdm import tqdm\n",
    "from pymahjong.replayer import replay, worker, calculate\n",
    "from multiprocessing import Queue, Process\n",
    "\n",
    "\n",
    "\n",
    "input = Queue()\n",
    "output = Queue()\n",
    "num_worker = 64\n",
    "\n",
    "dataset = []\n",
    "for file_name in file_name_list[:100]:\n",
    "    input.put((replay, (path, file_name)))\n",
    "\n",
    "for i in range(num_worker):\n",
    "    Process(target=worker, args=(input, output)).start()\n",
    "\n",
    "dataset = []\n",
    "label = []\n",
    "counter = {\n",
    "    'success': 0,\n",
    "    'failed': 0,\n",
    "    'skip': 0,\n",
    "    'type_error': 0\n",
    "}\n",
    "for i in tqdm(range(len(file_name_list[:100]))):\n",
    "    data = output.get()\n",
    "    if data is None:\n",
    "        counter['skip'] += 1\n",
    "    else:\n",
    "        if data['success']:\n",
    "            dataset.extend(data['data'])\n",
    "            label.extend(data['label'])\n",
    "\n",
    "            counter['success'] += 1\n",
    "        else:\n",
    "            counter['failed'] += 1\n",
    "\n",
    "for i in range(num_worker):\n",
    "    input.put('STOP')\n",
    "    \n"
   ]
  },
  {
   "cell_type": "code",
   "execution_count": 3,
   "metadata": {},
   "outputs": [
    {
     "ename": "KeyError",
     "evalue": "'label'",
     "output_type": "error",
     "traceback": [
      "\u001b[0;31m---------------------------------------------------------------------------\u001b[0m",
      "\u001b[0;31mKeyError\u001b[0m                                  Traceback (most recent call last)",
      "Cell \u001b[0;32mIn[3], line 1\u001b[0m\n\u001b[0;32m----> 1\u001b[0m \u001b[43mdataset\u001b[49m\u001b[43m[\u001b[49m\u001b[38;5;241;43m0\u001b[39;49m\u001b[43m]\u001b[49m\u001b[43m[\u001b[49m\u001b[38;5;124;43m'\u001b[39;49m\u001b[38;5;124;43mlabel\u001b[39;49m\u001b[38;5;124;43m'\u001b[39;49m\u001b[43m]\u001b[49m\n",
      "\u001b[0;31mKeyError\u001b[0m: 'label'"
     ]
    }
   ],
   "source": [
    "dataset[0]['label']"
   ]
  },
  {
   "cell_type": "code",
   "execution_count": null,
   "metadata": {},
   "outputs": [],
   "source": [
    "output.qsize()"
   ]
  },
  {
   "cell_type": "code",
   "execution_count": null,
   "metadata": {},
   "outputs": [],
   "source": [
    "data = output.get()\n",
    "print(type(data))"
   ]
  },
  {
   "cell_type": "code",
   "execution_count": null,
   "metadata": {},
   "outputs": [],
   "source": [
    "isinstance(data, list)"
   ]
  },
  {
   "cell_type": "code",
   "execution_count": null,
   "metadata": {},
   "outputs": [],
   "source": [
    "len(dataset)"
   ]
  },
  {
   "cell_type": "code",
   "execution_count": null,
   "metadata": {},
   "outputs": [],
   "source": [
    "print(env.get_curr_player_id())\n",
    "print(env.get_valid_actions())"
   ]
  },
  {
   "cell_type": "code",
   "execution_count": null,
   "metadata": {},
   "outputs": [],
   "source": [
    "print(env.t.to_string())"
   ]
  },
  {
   "cell_type": "code",
   "execution_count": null,
   "metadata": {},
   "outputs": [],
   "source": [
    "# import torch\n",
    "\n",
    "# kyoku = 0\n",
    "# player = 0\n",
    "\n",
    "# training_device = torch.device(\"cuda:0\" if torch.cuda.is_available() else \"cpu\")\n",
    "# print(training_device)\n",
    "\n",
    "# config = GPT2Config(n_embd=512, n_layer=8, n_head=8, n_positions=128)\n",
    "# model = Policy_Network(config).to(training_device)\n",
    "\n",
    "# input_collator = myCollator(device=training_device)\n",
    "# input = []\n",
    "# labels = []\n",
    "# for kyoku, label in zip(data['obs'], data['label']):\n",
    "#     input.extend(kyoku)\n",
    "#     labels.extend(label)\n",
    "# input = input_collator(input)\n",
    "# output = model(**input)\n",
    "\n",
    "\n",
    "# label_collator = label_Collator(device=training_device)\n",
    "# label = label_collator(labels)\n",
    "\n",
    "# criteria = torch.nn.CrossEntropyLoss()\n",
    "# loss = criteria(output['action_logits'], label)\n",
    "# print(input['action_list'].shape)\n",
    "# print(label.shape)\n",
    "# print(loss)"
   ]
  }
 ],
 "metadata": {
  "kernelspec": {
   "display_name": "RL_uzumaki",
   "language": "python",
   "name": "python3"
  },
  "language_info": {
   "codemirror_mode": {
    "name": "ipython",
    "version": 3
   },
   "file_extension": ".py",
   "mimetype": "text/x-python",
   "name": "python",
   "nbconvert_exporter": "python",
   "pygments_lexer": "ipython3",
   "version": "3.10.12"
  }
 },
 "nbformat": 4,
 "nbformat_minor": 2
}
