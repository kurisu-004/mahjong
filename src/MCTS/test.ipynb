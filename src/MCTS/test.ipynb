{
 "cells": [
  {
   "cell_type": "code",
   "execution_count": 1,
   "metadata": {},
   "outputs": [
    {
     "name": "stdout",
     "output_type": "stream",
     "text": [
      "agent payoff = -500.0\n"
     ]
    }
   ],
   "source": [
    "# example of using the environment\n",
    "import pymahjong\n",
    "import numpy as np\n",
    "\n",
    "env = pymahjong.SingleAgentMahjongEnv(opponent_agent=\"/home/renn/Code/mahjong/model/mahjong_VLOG_CQL.pth\")  # the 3 opponents play randomly\n",
    "\n",
    "obs = env.reset()  # get the obsevation at the first step of a game\n",
    "\n",
    "while True:\n",
    "    valid_actions = env.get_valid_actions()  # e.g., [0, 3, 4, 20, 21]\n",
    "\n",
    "    a = np.random.choice(valid_actions)  # make decision among valid actions\n",
    "\n",
    "    obs, reward, done, _ = env.step(a)  # reward is zero unless the game is over (done = True).\n",
    "\n",
    "    # oracle_obs = env.get_oracle_obs()  # if you need oracle observation\n",
    "    # full_obs = env.get_full_obs()  # full_obs = concat((obs, oracle_obs), axis=0)\n",
    "\n",
    "    if done:\n",
    "        print(\"agent payoff = {}\".format(reward))\n",
    "        break"
   ]
  },
  {
   "cell_type": "code",
   "execution_count": 4,
   "metadata": {},
   "outputs": [
    {
     "name": "stdout",
     "output_type": "stream",
     "text": [
      "[0, 0, 0, 0, 1, 1, 1, 1, 2, 2, 2, 2, 3, 3]\n"
     ]
    }
   ],
   "source": [
    "hai = [0, 1, 2, 3, 4, 5, 6, 7, 8, 9, 10, 11, 12, 13]\n",
    "new = [x//4 for x in hai]\n",
    "print(new)"
   ]
  }
 ],
 "metadata": {
  "kernelspec": {
   "display_name": "Mahjong",
   "language": "python",
   "name": "python3"
  },
  "language_info": {
   "codemirror_mode": {
    "name": "ipython",
    "version": 3
   },
   "file_extension": ".py",
   "mimetype": "text/x-python",
   "name": "python",
   "nbconvert_exporter": "python",
   "pygments_lexer": "ipython3",
   "version": "3.8.18"
  }
 },
 "nbformat": 4,
 "nbformat_minor": 2
}
