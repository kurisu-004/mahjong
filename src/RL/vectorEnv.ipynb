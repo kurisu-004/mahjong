{
 "cells": [
  {
   "cell_type": "code",
   "execution_count": 4,
   "metadata": {},
   "outputs": [],
   "source": [
    "import gymnasium as gym\n",
    "import numpy as np\n",
    "from pymahjong.myEnv_pymahjong import *\n",
    "\n",
    "# 工厂函数\n",
    "def make_env():\n",
    "    env = myMahjongEnv()\n",
    "    return env\n",
    "\n",
    "# 创建vector环境\n",
    "num_envs = 256\n",
    "env = gym.vector.AsyncVectorEnv([make_env for _ in range(num_envs)])\n",
    "obs, info = env.reset()\n",
    "done = np.array([False for _ in range(num_envs)])"
   ]
  },
  {
   "cell_type": "code",
   "execution_count": 5,
   "metadata": {},
   "outputs": [
    {
     "name": "stderr",
     "output_type": "stream",
     "text": [
      "100%|██████████| 1/1 [09:45<00:00, 585.78s/it]\n"
     ]
    },
    {
     "name": "stdout",
     "output_type": "stream",
     "text": [
      "The game is over.\n",
      "The game is over.\n",
      "The game is over.\n",
      "The game is over.\n",
      "The game is over.\n",
      "The game is over.\n",
      "The game is over.\n",
      "The game is over.\n",
      "The game is over.\n",
      "The game is over.\n",
      "The game is over.\n",
      "The game is over.\n",
      "The game is over.\n",
      "The game is over.\n",
      "The game is over.\n",
      "The game is over.\n",
      "The game is over.\n",
      "The game is over.\n",
      "The game is over.\n",
      "The game is over.\n",
      "The game is over.\n",
      "The game is over.\n",
      "The game is over.\n",
      "The game is over.\n",
      "The game is over.\n",
      "The game is over.\n",
      "The game is over.\n",
      "The game is over.\n",
      "The game is over.\n",
      "The game is over.\n",
      "The game is over.\n",
      "The game is over.\n",
      "The game is over.\n",
      "The game is over.\n",
      "The game is over.\n",
      "The game is over.\n",
      "The game is over.\n",
      "The game is over.\n",
      "The game is over.\n",
      "The game is over.\n",
      "The game is over.\n",
      "The game is over.\n",
      "The game is over.\n",
      "The game is over.\n",
      "The game is over.\n",
      "The game is over.\n",
      "The game is over.\n",
      "The game is over.\n",
      "The game is over.\n",
      "The game is over.\n",
      "The game is over.\n",
      "The game is over.\n",
      "The game is over.\n",
      "The game is over.\n",
      "The game is over.\n",
      "The game is over.\n",
      "The game is over.\n",
      "The game is over.\n",
      "The game is over.\n",
      "The game is over.\n",
      "The game is over.\n",
      "The game is over.\n",
      "The game is over.\n",
      "The game is over.\n",
      "The game is over.\n",
      "The game is over.\n",
      "The game is over.\n",
      "The game is over.\n"
     ]
    }
   ],
   "source": [
    "from tqdm import tqdm\n",
    "import random\n",
    "\n",
    "epochs = 1\n",
    "num_games = 1024\n",
    "train_epochs = 1\n",
    "\n",
    "for epoch in tqdm(range(epochs)): \n",
    "   # 生成num_games局对局数据\n",
    "    dataset = []\n",
    "    while len(dataset) < num_games*4:\n",
    "        actions = []\n",
    "        for i in range(num_envs):\n",
    "            legal_action_idx = obs['legal_action_mask'][i]\n",
    "            action = np.random.choice(np.where(legal_action_idx==1)[0])                                                   \n",
    "            actions.append(action)\n",
    "        actions = np.array(actions)\n",
    "        obs, reward, done, _, info = env.step(actions)\n",
    "        if 'final_info' in info:\n",
    "            for i in range(num_envs):\n",
    "                if info['final_info'][i] is not None:\n",
    "                    if info['final_info'][i]['payoffs'].any():\n",
    "                        dataset.extend(info['final_info'][i]['obs_with_return'])\n",
    "\n",
    "\n",
    "\n"
   ]
  },
  {
   "cell_type": "code",
   "execution_count": 3,
   "metadata": {},
   "outputs": [
    {
     "data": {
      "text/plain": [
       "3660"
      ]
     },
     "execution_count": 3,
     "metadata": {},
     "output_type": "execute_result"
    }
   ],
   "source": [
    "len(dataset)"
   ]
  },
  {
   "cell_type": "code",
   "execution_count": null,
   "metadata": {},
   "outputs": [],
   "source": [
    "info['final_info'][2]['obs_with_return'][0]['tiles_features'].shape"
   ]
  }
 ],
 "metadata": {
  "kernelspec": {
   "display_name": "RL",
   "language": "python",
   "name": "python3"
  },
  "language_info": {
   "codemirror_mode": {
    "name": "ipython",
    "version": 3
   },
   "file_extension": ".py",
   "mimetype": "text/x-python",
   "name": "python",
   "nbconvert_exporter": "python",
   "pygments_lexer": "ipython3",
   "version": "3.10.12"
  }
 },
 "nbformat": 4,
 "nbformat_minor": 2
}
