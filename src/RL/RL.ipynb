{
 "cells": [
  {
   "cell_type": "markdown",
   "metadata": {},
   "source": [
    "# 1.验证模型结构"
   ]
  },
  {
   "cell_type": "code",
   "execution_count": null,
   "metadata": {},
   "outputs": [],
   "source": [
    "import torch\n",
    "import numpy as np\n",
    "from base_module import *\n",
    "\n",
    "from pymahjong import *\n",
    "from pymahjong import MahjongPyWrapper as pm\n",
    "from pymahjong.myEnv_pymahjong import myMahjongEnv\n",
    "\n",
    "env = myMahjongEnv()\n",
    "env.reset()\n",
    "\n",
    "\n",
    "# 检测GPU是否可用\n",
    "device = torch.device(\"cuda\" if torch.cuda.is_available() else \"cpu\")\n",
    "print(\"device:\", device)\n",
    "\n",
    "# 测试用输入\n",
    "batch =  []\n",
    "batch_size = 16\n",
    "feature_channels = 35\n",
    "feature_height = 4\n",
    "feature_width = 9\n",
    "\n",
    "action_space = 47\n",
    "\n",
    "while len(batch) < batch_size:\n",
    "    while not env.is_over():\n",
    "        curr_pid = env.get_curr_player_id()\n",
    "        valid_actions = env.get_valid_actions()\n",
    "        action = np.random.choice(valid_actions)\n",
    "        env.step(player_id=curr_pid, action=action)\n",
    "    print(env.get_payoffs())\n",
    "    for i in range(4):\n",
    "        batch.append(env.get_observation_with_return(i))\n",
    "    env.reset()\n",
    "collator = myCollator()"
   ]
  },
  {
   "cell_type": "code",
   "execution_count": null,
   "metadata": {},
   "outputs": [],
   "source": [
    "from base_module import *\n",
    "import torch\n",
    "import torch.nn as nn\n",
    "import numpy as np\n",
    "from transformers import GPT2Model, GPT2Config\n",
    "\n",
    "\n",
    "# 检测GPU是否可用\n",
    "device = torch.device(\"cuda\" if torch.cuda.is_available() else \"cpu\")\n",
    "print(\"device:\", device)\n",
    "# 创建模型\n",
    "config = GPT2Config(n_embd=512, n_layer=8, n_head=8, n_positions=128)\n",
    "model = Policy_Network(config).to(device)\n",
    "data = collator(batch)\n",
    "model.eval()\n"
   ]
  },
  {
   "cell_type": "code",
   "execution_count": null,
   "metadata": {},
   "outputs": [],
   "source": [
    "\n",
    "output = model.forward(**data)\n",
    "print(\"action_logits:\", output[\"action_logits\"].shape)\n",
    "print(output[\"action_logits\"][0])\n",
    "print(\"probs:\", output[\"action_probs\"][0])\n",
    "# print(\"loss:\", output[\"loss\"])\n",
    "print(\"action:\", output[\"action\"])\n"
   ]
  },
  {
   "cell_type": "markdown",
   "metadata": {},
   "source": [
    "# 2.验证麻将环境"
   ]
  },
  {
   "cell_type": "code",
   "execution_count": 1,
   "metadata": {},
   "outputs": [],
   "source": [
    "from pymahjong import *\n",
    "from pymahjong import MahjongPyWrapper as pm\n",
    "from pymahjong.myEnv_pymahjong import myMahjongEnv\n",
    "\n",
    "env = myMahjongEnv()\n",
    "env.reset()"
   ]
  },
  {
   "cell_type": "code",
   "execution_count": null,
   "metadata": {},
   "outputs": [],
   "source": [
    "print(env.get_valid_actions())\n",
    "print(env.legal_actions_mask_record)"
   ]
  },
  {
   "cell_type": "code",
   "execution_count": null,
   "metadata": {},
   "outputs": [],
   "source": [
    "while not env.is_over():\n",
    "    curr_pid = env.get_curr_player_id()\n",
    "    valid_actions = env.get_valid_actions()\n",
    "    action = np.random.choice(valid_actions)\n",
    "    env.step(player_id=curr_pid, action=action)\n",
    "print(env.get_payoffs())"
   ]
  },
  {
   "cell_type": "markdown",
   "metadata": {},
   "source": [
    "#### 展示当前phase和合法动作列表"
   ]
  },
  {
   "cell_type": "code",
   "execution_count": null,
   "metadata": {},
   "outputs": [],
   "source": [
    "phase, aviable_action = env._proceed()\n",
    "print(\"phase:\", phase)\n",
    "for idx, action in enumerate(aviable_action):\n",
    "    print(idx, action.to_string())\n",
    "\n",
    "valid_action = env.get_valid_actions()\n",
    "print(\"valid_action:\", valid_action)"
   ]
  },
  {
   "cell_type": "markdown",
   "metadata": {},
   "source": [
    "#### 执行动作"
   ]
  },
  {
   "cell_type": "code",
   "execution_count": 4,
   "metadata": {},
   "outputs": [],
   "source": [
    "env.step(2, 0)"
   ]
  },
  {
   "cell_type": "code",
   "execution_count": null,
   "metadata": {},
   "outputs": [],
   "source": [
    "for i in range(4):\n",
    "    print(\"player\", i, \"hand:\", env._get_hand_tiles(i))"
   ]
  },
  {
   "cell_type": "code",
   "execution_count": null,
   "metadata": {},
   "outputs": [],
   "source": [
    "obs = env.get_observation(1)\n",
    "print(\"tiles_features shape:\", obs['tiles_features'].shape)\n",
    "print(\"oya shape:\", obs['info']['oya'].shape)\n",
    "print(\"riichi_sticks shape:\", obs['info']['riichi_sticks'].shape)\n",
    "print(\"action_list shape:\", obs['action_list'].shape)\n",
    "print(\"action_list:\", obs['action_list'])\n",
    "print(\"self_action_mask shape:\", obs['self_action_mask'].shape)\n",
    "print(\"self_action_mask:\", obs['self_action_mask'])\n",
    "print(\"sum self_action_mask:\", obs['self_action_mask'].sum())\n",
    "print(\"attention_mask shape:\", obs['attention_mask'].shape)\n",
    "print(\"attention_mask:\", obs['attention_mask'])\n",
    "print(\"Q shape:\", obs['Q_values'].shape)\n",
    "print(\"Q:\", obs['Q_values'])\n",
    "print(\"legal_action_mask shape:\", obs['legal_action_mask'].shape)\n",
    "print(\"legal_action_mask:\", obs['legal_action_mask'])"
   ]
  },
  {
   "cell_type": "code",
   "execution_count": null,
   "metadata": {},
   "outputs": [],
   "source": [
    "for i in range(4):\n",
    "    print(\"player\", i, \"fuuros:\", env._get_fuuros(i))\n",
    "    print(\"points:\", env._get_points(i))"
   ]
  },
  {
   "cell_type": "code",
   "execution_count": null,
   "metadata": {},
   "outputs": [],
   "source": [
    "obs['info']"
   ]
  },
  {
   "cell_type": "markdown",
   "metadata": {},
   "source": [
    "# 3.使用模型来决策"
   ]
  },
  {
   "cell_type": "code",
   "execution_count": 1,
   "metadata": {},
   "outputs": [],
   "source": [
    "import os\n",
    "os.environ[\"CUDA_VISIBLE_DEVICES\"] = \"1\"\n",
    "import torch\n",
    "\n",
    "# 使用第一个可用的 GPU，即设备 1\n",
    "device = torch.device(\"cuda:0\" if torch.cuda.is_available() else \"cpu\")\n"
   ]
  },
  {
   "cell_type": "code",
   "execution_count": null,
   "metadata": {},
   "outputs": [],
   "source": [
    "import torch\n",
    "import numpy as np\n",
    "from base_module import *\n",
    "\n",
    "from pymahjong import *\n",
    "from pymahjong import MahjongPyWrapper as pm\n",
    "from pymahjong.myEnv_pymahjong import myMahjongEnv\n",
    "\n",
    "env = myMahjongEnv()\n",
    "env.reset()\n",
    "\n",
    "config = GPT2Config(n_embd=512, n_layer=8, n_head=8, n_positions=128)\n",
    "model = Policy_Network(config).to(device)\n",
    "model.eval()\n",
    "\n",
    "collator = myCollator()\n",
    "for i in range(100):\n",
    "    while not env.is_over():\n",
    "        curr_pid = env.get_curr_player_id()\n",
    "        obs = env.get_observation(curr_pid)\n",
    "        input = {\n",
    "        \"tiles_features\": torch.tensor(obs['tiles_features'], dtype=torch.float32).to(device),\n",
    "        \"oya\": torch.tensor(obs['info']['oya'], dtype=torch.float32).unsqueeze(0).to(device),\n",
    "        \"riichi_sticks\": torch.tensor(obs['info']['riichi_sticks'],dtype=torch.float32).unsqueeze(0).to(device),\n",
    "        \"action_list\": torch.tensor(obs['action_list'],dtype=torch.long).unsqueeze(0).to(device),\n",
    "        \"attention_mask\": torch.tensor(obs['attention_mask'],dtype=torch.long).unsqueeze(0).to(device),\n",
    "        \"legal_action_mask\": torch.tensor(obs['legal_action_mask'], dtype=bool).to(device)\n",
    "        }\n",
    "        output = model.inference(**input)\n",
    "        action = output[\"action\"].item()\n",
    "        env.step(player_id=curr_pid, action_idx=action)\n",
    "        # print(\"player:\", curr_pid, \"action:\", action)\n",
    "    print(env.get_payoffs())\n",
    "    env.reset()\n",
    "\n",
    "\n",
    "\n",
    "# print(\"action:\", output[\"action\"])"
   ]
  },
  {
   "cell_type": "markdown",
   "metadata": {},
   "source": [
    "# 4. 开始训练"
   ]
  },
  {
   "cell_type": "code",
   "execution_count": 1,
   "metadata": {},
   "outputs": [
    {
     "name": "stdout",
     "output_type": "stream",
     "text": [
      "inference_device: cuda:0\n",
      "training_device: cuda:1\n"
     ]
    }
   ],
   "source": [
    "import os\n",
    "os.environ[\"CUDA_VISIBLE_DEVICES\"] = \"2,3\"\n",
    "import torch\n",
    "\n",
    "# 使用第一个可用的 GPU，即设备 1\n",
    "inference_device = torch.device(\"cuda:0\" if torch.cuda.is_available() else \"cpu\")\n",
    "training_device = torch.device(\"cuda:1\" if torch.cuda.is_available() else \"cpu\")\n",
    "\n",
    "print(\"inference_device:\", inference_device)\n",
    "print(\"training_device:\", training_device)\n",
    "\n",
    "import numpy as np\n",
    "from base_module import *\n",
    "\n",
    "from pymahjong import *\n",
    "from pymahjong import MahjongPyWrapper as pm\n",
    "from pymahjong.myEnv_pymahjong import myMahjongEnv\n",
    "\n",
    "env = myMahjongEnv()\n",
    "env.reset()\n",
    "\n",
    "config = GPT2Config(n_embd=512, n_layer=8, n_head=8, n_positions=128)\n",
    "inference_model = Policy_Network(config).to(inference_device)\n",
    "inference_model.eval()\n",
    "\n",
    "training_model = Policy_Network(config).to(training_device)\n",
    "training_model.load_state_dict(inference_model.state_dict())\n",
    "training_model.train()\n",
    "\n",
    "collator = myCollator(device=training_device)\n",
    "inference_collator = inference_Collator(device=inference_device)\n",
    "optimizer = torch.optim.Adam(training_model.parameters(), lr=1e-6)\n",
    "# 工厂函数\n",
    "def make_env():\n",
    "    env = myMahjongEnv()\n",
    "    return env"
   ]
  },
  {
   "cell_type": "code",
   "execution_count": 2,
   "metadata": {},
   "outputs": [
    {
     "name": "stderr",
     "output_type": "stream",
     "text": [
      "  0%|          | 0/100 [00:00<?, ?it/s]\u001b[31mERROR: Received the following error from Worker-24: IndexError: index -1 is out of bounds for axis 0 with size 0\u001b[0m\n",
      "\u001b[31mERROR: Shutting down Worker-24.\u001b[0m\n",
      "\u001b[31mERROR: Received the following error from Worker-31: IndexError: index -1 is out of bounds for axis 0 with size 0\u001b[0m\n",
      "\u001b[31mERROR: Shutting down Worker-31.\u001b[0m\n",
      "\u001b[31mERROR: Received the following error from Worker-60: IndexError: index -1 is out of bounds for axis 0 with size 0\u001b[0m\n",
      "\u001b[31mERROR: Shutting down Worker-60.\u001b[0m\n",
      "\u001b[31mERROR: Received the following error from Worker-66: IndexError: index -1 is out of bounds for axis 0 with size 0\u001b[0m\n",
      "\u001b[31mERROR: Shutting down Worker-66.\u001b[0m\n",
      "\u001b[31mERROR: Received the following error from Worker-117: IndexError: index -1 is out of bounds for axis 0 with size 0\u001b[0m\n",
      "\u001b[31mERROR: Shutting down Worker-117.\u001b[0m\n",
      "\u001b[31mERROR: Raising the last exception back to the main process.\u001b[0m\n"
     ]
    },
    {
     "name": "stdout",
     "output_type": "stream",
     "text": [
      "index -1 is out of bounds for axis 0 with size 0\n"
     ]
    },
    {
     "name": "stderr",
     "output_type": "stream",
     "text": [
      "  0%|          | 0/100 [01:10<?, ?it/s]\n"
     ]
    },
    {
     "ename": "KeyboardInterrupt",
     "evalue": "",
     "output_type": "error",
     "traceback": [
      "\u001b[0;31m---------------------------------------------------------------------------\u001b[0m",
      "\u001b[0;31mIndexError\u001b[0m                                Traceback (most recent call last)",
      "Cell \u001b[0;32mIn[2], line 26\u001b[0m\n\u001b[1;32m     25\u001b[0m \u001b[38;5;28;01mtry\u001b[39;00m:\n\u001b[0;32m---> 26\u001b[0m     obs, reward, done, _, info \u001b[38;5;241m=\u001b[39m \u001b[43menv\u001b[49m\u001b[38;5;241;43m.\u001b[39;49m\u001b[43mstep\u001b[49m\u001b[43m(\u001b[49m\u001b[43mactions\u001b[49m\u001b[43m)\u001b[49m\n\u001b[1;32m     27\u001b[0m \u001b[38;5;28;01mexcept\u001b[39;00m \u001b[38;5;167;01mIndexError\u001b[39;00m \u001b[38;5;28;01mas\u001b[39;00m e:\n",
      "File \u001b[0;32m~/envs/RL_uzumaki/lib/python3.10/site-packages/gymnasium/vector/vector_env.py:204\u001b[0m, in \u001b[0;36mVectorEnv.step\u001b[0;34m(self, actions)\u001b[0m\n\u001b[1;32m    203\u001b[0m \u001b[38;5;28mself\u001b[39m\u001b[38;5;241m.\u001b[39mstep_async(actions)\n\u001b[0;32m--> 204\u001b[0m \u001b[38;5;28;01mreturn\u001b[39;00m \u001b[38;5;28;43mself\u001b[39;49m\u001b[38;5;241;43m.\u001b[39;49m\u001b[43mstep_wait\u001b[49m\u001b[43m(\u001b[49m\u001b[43m)\u001b[49m\n",
      "File \u001b[0;32m~/envs/RL_uzumaki/lib/python3.10/site-packages/gymnasium/vector/async_vector_env.py:333\u001b[0m, in \u001b[0;36mAsyncVectorEnv.step_wait\u001b[0;34m(self, timeout)\u001b[0m\n\u001b[1;32m    331\u001b[0m         infos \u001b[38;5;241m=\u001b[39m \u001b[38;5;28mself\u001b[39m\u001b[38;5;241m.\u001b[39m_add_info(infos, info, i)\n\u001b[0;32m--> 333\u001b[0m \u001b[38;5;28;43mself\u001b[39;49m\u001b[38;5;241;43m.\u001b[39;49m\u001b[43m_raise_if_errors\u001b[49m\u001b[43m(\u001b[49m\u001b[43msuccesses\u001b[49m\u001b[43m)\u001b[49m\n\u001b[1;32m    334\u001b[0m \u001b[38;5;28mself\u001b[39m\u001b[38;5;241m.\u001b[39m_state \u001b[38;5;241m=\u001b[39m AsyncState\u001b[38;5;241m.\u001b[39mDEFAULT\n",
      "File \u001b[0;32m~/envs/RL_uzumaki/lib/python3.10/site-packages/gymnasium/vector/async_vector_env.py:544\u001b[0m, in \u001b[0;36mAsyncVectorEnv._raise_if_errors\u001b[0;34m(self, successes)\u001b[0m\n\u001b[1;32m    543\u001b[0m logger\u001b[38;5;241m.\u001b[39merror(\u001b[38;5;124m\"\u001b[39m\u001b[38;5;124mRaising the last exception back to the main process.\u001b[39m\u001b[38;5;124m\"\u001b[39m)\n\u001b[0;32m--> 544\u001b[0m \u001b[38;5;28;01mraise\u001b[39;00m exctype(value)\n",
      "\u001b[0;31mIndexError\u001b[0m: index -1 is out of bounds for axis 0 with size 0",
      "\nDuring handling of the above exception, another exception occurred:\n",
      "\u001b[0;31mKeyboardInterrupt\u001b[0m                         Traceback (most recent call last)",
      "Cell \u001b[0;32mIn[2], line 30\u001b[0m\n\u001b[1;32m     28\u001b[0m \u001b[38;5;28mprint\u001b[39m(e)\n\u001b[1;32m     29\u001b[0m \u001b[38;5;66;03m# 重置环境\u001b[39;00m\n\u001b[0;32m---> 30\u001b[0m \u001b[43menv\u001b[49m\u001b[38;5;241;43m.\u001b[39;49m\u001b[43mstep_wait\u001b[49m\u001b[43m(\u001b[49m\u001b[43m)\u001b[49m\n\u001b[1;32m     31\u001b[0m obs, info \u001b[38;5;241m=\u001b[39m env\u001b[38;5;241m.\u001b[39mreset()\n\u001b[1;32m     32\u001b[0m done \u001b[38;5;241m=\u001b[39m np\u001b[38;5;241m.\u001b[39marray([\u001b[38;5;28;01mFalse\u001b[39;00m \u001b[38;5;28;01mfor\u001b[39;00m _ \u001b[38;5;129;01min\u001b[39;00m \u001b[38;5;28mrange\u001b[39m(num_envs)])\n",
      "File \u001b[0;32m~/envs/RL_uzumaki/lib/python3.10/site-packages/gymnasium/vector/async_vector_env.py:322\u001b[0m, in \u001b[0;36mAsyncVectorEnv.step_wait\u001b[0;34m(self, timeout)\u001b[0m\n\u001b[1;32m    320\u001b[0m successes \u001b[38;5;241m=\u001b[39m []\n\u001b[1;32m    321\u001b[0m \u001b[38;5;28;01mfor\u001b[39;00m i, pipe \u001b[38;5;129;01min\u001b[39;00m \u001b[38;5;28menumerate\u001b[39m(\u001b[38;5;28mself\u001b[39m\u001b[38;5;241m.\u001b[39mparent_pipes):\n\u001b[0;32m--> 322\u001b[0m     result, success \u001b[38;5;241m=\u001b[39m \u001b[43mpipe\u001b[49m\u001b[38;5;241;43m.\u001b[39;49m\u001b[43mrecv\u001b[49m\u001b[43m(\u001b[49m\u001b[43m)\u001b[49m\n\u001b[1;32m    323\u001b[0m     successes\u001b[38;5;241m.\u001b[39mappend(success)\n\u001b[1;32m    324\u001b[0m     \u001b[38;5;28;01mif\u001b[39;00m success:\n",
      "File \u001b[0;32m/usr/lib/python3.10/multiprocessing/connection.py:250\u001b[0m, in \u001b[0;36m_ConnectionBase.recv\u001b[0;34m(self)\u001b[0m\n\u001b[1;32m    248\u001b[0m \u001b[38;5;28mself\u001b[39m\u001b[38;5;241m.\u001b[39m_check_closed()\n\u001b[1;32m    249\u001b[0m \u001b[38;5;28mself\u001b[39m\u001b[38;5;241m.\u001b[39m_check_readable()\n\u001b[0;32m--> 250\u001b[0m buf \u001b[38;5;241m=\u001b[39m \u001b[38;5;28;43mself\u001b[39;49m\u001b[38;5;241;43m.\u001b[39;49m\u001b[43m_recv_bytes\u001b[49m\u001b[43m(\u001b[49m\u001b[43m)\u001b[49m\n\u001b[1;32m    251\u001b[0m \u001b[38;5;28;01mreturn\u001b[39;00m _ForkingPickler\u001b[38;5;241m.\u001b[39mloads(buf\u001b[38;5;241m.\u001b[39mgetbuffer())\n",
      "File \u001b[0;32m/usr/lib/python3.10/multiprocessing/connection.py:414\u001b[0m, in \u001b[0;36mConnection._recv_bytes\u001b[0;34m(self, maxsize)\u001b[0m\n\u001b[1;32m    413\u001b[0m \u001b[38;5;28;01mdef\u001b[39;00m \u001b[38;5;21m_recv_bytes\u001b[39m(\u001b[38;5;28mself\u001b[39m, maxsize\u001b[38;5;241m=\u001b[39m\u001b[38;5;28;01mNone\u001b[39;00m):\n\u001b[0;32m--> 414\u001b[0m     buf \u001b[38;5;241m=\u001b[39m \u001b[38;5;28;43mself\u001b[39;49m\u001b[38;5;241;43m.\u001b[39;49m\u001b[43m_recv\u001b[49m\u001b[43m(\u001b[49m\u001b[38;5;241;43m4\u001b[39;49m\u001b[43m)\u001b[49m\n\u001b[1;32m    415\u001b[0m     size, \u001b[38;5;241m=\u001b[39m struct\u001b[38;5;241m.\u001b[39munpack(\u001b[38;5;124m\"\u001b[39m\u001b[38;5;124m!i\u001b[39m\u001b[38;5;124m\"\u001b[39m, buf\u001b[38;5;241m.\u001b[39mgetvalue())\n\u001b[1;32m    416\u001b[0m     \u001b[38;5;28;01mif\u001b[39;00m size \u001b[38;5;241m==\u001b[39m \u001b[38;5;241m-\u001b[39m\u001b[38;5;241m1\u001b[39m:\n",
      "File \u001b[0;32m/usr/lib/python3.10/multiprocessing/connection.py:379\u001b[0m, in \u001b[0;36mConnection._recv\u001b[0;34m(self, size, read)\u001b[0m\n\u001b[1;32m    377\u001b[0m remaining \u001b[38;5;241m=\u001b[39m size\n\u001b[1;32m    378\u001b[0m \u001b[38;5;28;01mwhile\u001b[39;00m remaining \u001b[38;5;241m>\u001b[39m \u001b[38;5;241m0\u001b[39m:\n\u001b[0;32m--> 379\u001b[0m     chunk \u001b[38;5;241m=\u001b[39m \u001b[43mread\u001b[49m\u001b[43m(\u001b[49m\u001b[43mhandle\u001b[49m\u001b[43m,\u001b[49m\u001b[43m \u001b[49m\u001b[43mremaining\u001b[49m\u001b[43m)\u001b[49m\n\u001b[1;32m    380\u001b[0m     n \u001b[38;5;241m=\u001b[39m \u001b[38;5;28mlen\u001b[39m(chunk)\n\u001b[1;32m    381\u001b[0m     \u001b[38;5;28;01mif\u001b[39;00m n \u001b[38;5;241m==\u001b[39m \u001b[38;5;241m0\u001b[39m:\n",
      "\u001b[0;31mKeyboardInterrupt\u001b[0m: "
     ]
    }
   ],
   "source": [
    "from tqdm import tqdm\n",
    "import random\n",
    "\n",
    "epochs = 100\n",
    "num_envs = 128\n",
    "num_games = 10240\n",
    "train_epochs = 10\n",
    "batch_size = 256\n",
    "\n",
    "# 创建vector环境\n",
    "env = gym.vector.AsyncVectorEnv([make_env for _ in range(num_envs)])\n",
    "obs, info = env.reset()\n",
    "done = np.array([False for _ in range(num_envs)])\n",
    "\n",
    "for epoch in tqdm(range(epochs)): \n",
    "   # 生成num_games局对局数据\n",
    "    dataset = []\n",
    "    while len(dataset) < num_games*4:\n",
    "        input = inference_collator(obs)\n",
    "        with torch.no_grad():\n",
    "            output = inference_model.inference(**input)\n",
    "        prob = output[\"action_probs\"].cpu().numpy()\n",
    "        # prob的形状为(num_envs, 47)\n",
    "        actions = np.array([np.random.choice(47, p=prob[i]) for i in range(num_envs)])\n",
    "        try:\n",
    "            obs, reward, done, _, info = env.step(actions)\n",
    "        except IndexError as e:\n",
    "            print(e)\n",
    "            # 重置环境\n",
    "            env.step_wait()\n",
    "            obs, info = env.close()\n",
    "            env = gym.vector.AsyncVectorEnv([make_env for _ in range(num_envs)])\n",
    "            obs, info = env.reset()\n",
    "            done = np.array([False for _ in range(num_envs)])\n",
    "            continue\n",
    "\n",
    "        if 'final_info' in info:\n",
    "            for i in range(num_envs):\n",
    "                if info['final_info'][i] is not None:\n",
    "                    if info['final_info'][i]['payoffs'].any():\n",
    "                        dataset.extend(info['final_info'][i]['obs_with_return'])\n",
    "\n",
    "    # 从dataset中每次取出batch_size个数据进行训练\n",
    "    for train_epoch in tqdm(range(train_epochs)):\n",
    "        # 打乱数据\n",
    "        random.shuffle(dataset)\n",
    "        for batch_idx in range(0, len(dataset), batch_size):\n",
    "            batch = dataset[batch_idx:batch_idx+batch_size]\n",
    "            data = collator(batch)\n",
    "            # 移动数据到training_device\n",
    "            for key in data.keys():\n",
    "                if key == \"info\":\n",
    "                    for sub_key in data[key].keys():\n",
    "                        data[key][sub_key] = data[key][sub_key].to(training_device)\n",
    "                else:\n",
    "                    data[key] = data[key].to(training_device)\n",
    "            optimizer.zero_grad()\n",
    "            output = training_model.forward(**data)\n",
    "            loss = output[\"loss\"]\n",
    "            loss.backward()\n",
    "            optimizer.step()\n",
    "            # print(\"loss:\", loss.item())\n",
    "\n",
    "    # 将training_model的参数复制到inference_model,并保存checkpoint\n",
    "    inference_model.load_state_dict(training_model.state_dict())\n",
    "    torch.save(inference_model.state_dict(), f\"./checkpoints/epoch_{epoch}.pth\")\n",
    "\n",
    "\n",
    "\n",
    "\n"
   ]
  },
  {
   "cell_type": "code",
   "execution_count": 3,
   "metadata": {},
   "outputs": [
    {
     "data": {
      "text/plain": [
       "0"
      ]
     },
     "execution_count": 3,
     "metadata": {},
     "output_type": "execute_result"
    }
   ],
   "source": [
    "len(dataset)"
   ]
  },
  {
   "cell_type": "markdown",
   "metadata": {},
   "source": [
    "### 4.1 检查模型效果"
   ]
  },
  {
   "cell_type": "code",
   "execution_count": 1,
   "metadata": {},
   "outputs": [
    {
     "name": "stdout",
     "output_type": "stream",
     "text": [
      "inference_device: cuda:0\n"
     ]
    },
    {
     "data": {
      "text/plain": [
       "Policy_Network(\n",
       "  (my_model): my_model(\n",
       "    (tiles_cnn): Tiles_CNN(\n",
       "      (conv1): Conv2d(35, 128, kernel_size=(3, 3), stride=(1, 1), padding=(1, 1))\n",
       "      (bn1): BatchNorm2d(128, eps=1e-05, momentum=0.1, affine=True, track_running_stats=True)\n",
       "      (resnet_list): ModuleList(\n",
       "        (0-17): 18 x Rsidual_Block(\n",
       "          (conv1): Conv2d(128, 128, kernel_size=(3, 3), stride=(1, 1), padding=(1, 1))\n",
       "          (bn1): BatchNorm2d(128, eps=1e-05, momentum=0.1, affine=True, track_running_stats=True)\n",
       "          (relu): ReLU(inplace=True)\n",
       "          (conv2): Conv2d(128, 128, kernel_size=(3, 3), stride=(1, 1), padding=(1, 1))\n",
       "          (bn2): BatchNorm2d(128, eps=1e-05, momentum=0.1, affine=True, track_running_stats=True)\n",
       "          (squential): Sequential(\n",
       "            (0): Conv2d(128, 128, kernel_size=(3, 3), stride=(1, 1), padding=(1, 1))\n",
       "            (1): BatchNorm2d(128, eps=1e-05, momentum=0.1, affine=True, track_running_stats=True)\n",
       "            (2): ReLU(inplace=True)\n",
       "            (3): Conv2d(128, 128, kernel_size=(3, 3), stride=(1, 1), padding=(1, 1))\n",
       "            (4): BatchNorm2d(128, eps=1e-05, momentum=0.1, affine=True, track_running_stats=True)\n",
       "          )\n",
       "        )\n",
       "      )\n",
       "      (flatten): Flatten(start_dim=1, end_dim=-1)\n",
       "      (fc1): Linear(in_features=4608, out_features=512, bias=True)\n",
       "      (relu): ReLU(inplace=True)\n",
       "      (fc2): Linear(in_features=512, out_features=128, bias=True)\n",
       "    )\n",
       "    (pub_info_embedding): pub_info_embedding(\n",
       "      (oya_sticks_embedding): Linear(in_features=2, out_features=16, bias=True)\n",
       "      (layernorm): LayerNorm((2,), eps=1e-05, elementwise_affine=True)\n",
       "      (relu): ReLU(inplace=True)\n",
       "    )\n",
       "    (action_GPT2): action_GPT2(\n",
       "      (wte): Embedding(50257, 512)\n",
       "      (wpe): Embedding(128, 512)\n",
       "      (drop): Dropout(p=0.1, inplace=False)\n",
       "      (h): ModuleList(\n",
       "        (0-7): 8 x GPT2Block(\n",
       "          (ln_1): LayerNorm((512,), eps=1e-05, elementwise_affine=True)\n",
       "          (attn): GPT2Attention(\n",
       "            (c_attn): Conv1D()\n",
       "            (c_proj): Conv1D()\n",
       "            (attn_dropout): Dropout(p=0.1, inplace=False)\n",
       "            (resid_dropout): Dropout(p=0.1, inplace=False)\n",
       "          )\n",
       "          (ln_2): LayerNorm((512,), eps=1e-05, elementwise_affine=True)\n",
       "          (mlp): GPT2MLP(\n",
       "            (c_fc): Conv1D()\n",
       "            (c_proj): Conv1D()\n",
       "            (act): NewGELUActivation()\n",
       "            (dropout): Dropout(p=0.1, inplace=False)\n",
       "          )\n",
       "        )\n",
       "      )\n",
       "      (ln_f): LayerNorm((512,), eps=1e-05, elementwise_affine=True)\n",
       "      (embeded): Embedding(189, 512)\n",
       "      (rope): RoPE()\n",
       "    )\n",
       "  )\n",
       "  (layernorm): LayerNorm((656,), eps=1e-05, elementwise_affine=True)\n",
       "  (mlp): MLP(\n",
       "    (fc1): Linear(in_features=656, out_features=128, bias=True)\n",
       "    (fc2): Linear(in_features=128, out_features=128, bias=True)\n",
       "    (fc3): Linear(in_features=128, out_features=128, bias=True)\n",
       "    (fc4): Linear(in_features=128, out_features=128, bias=True)\n",
       "    (fc5): Linear(in_features=128, out_features=128, bias=True)\n",
       "    (fc6): Linear(in_features=128, out_features=47, bias=True)\n",
       "    (relu): ReLU(inplace=True)\n",
       "    (mlp): Sequential(\n",
       "      (0): Linear(in_features=656, out_features=128, bias=True)\n",
       "      (1): ReLU(inplace=True)\n",
       "      (2): Linear(in_features=128, out_features=128, bias=True)\n",
       "      (3): ReLU(inplace=True)\n",
       "      (4): Linear(in_features=128, out_features=128, bias=True)\n",
       "      (5): ReLU(inplace=True)\n",
       "      (6): Linear(in_features=128, out_features=128, bias=True)\n",
       "      (7): ReLU(inplace=True)\n",
       "      (8): Linear(in_features=128, out_features=128, bias=True)\n",
       "      (9): ReLU(inplace=True)\n",
       "      (10): Linear(in_features=128, out_features=47, bias=True)\n",
       "    )\n",
       "  )\n",
       "  (softmax): Softmax(dim=1)\n",
       ")"
      ]
     },
     "execution_count": 1,
     "metadata": {},
     "output_type": "execute_result"
    }
   ],
   "source": [
    "import os\n",
    "os.environ[\"CUDA_VISIBLE_DEVICES\"] = \"3\"\n",
    "import torch\n",
    "\n",
    "# 使用第一个可用的 GPU，即设备 1\n",
    "inference_device = torch.device(\"cuda:0\" if torch.cuda.is_available() else \"cpu\")\n",
    "# training_device = torch.device(\"cuda:1\" if torch.cuda.is_available() else \"cpu\")\n",
    "\n",
    "print(\"inference_device:\", inference_device)\n",
    "# print(\"training_device:\", training_device)\n",
    "\n",
    "import numpy as np\n",
    "from base_module import *\n",
    "\n",
    "from pymahjong import *\n",
    "from pymahjong import MahjongPyWrapper as pm\n",
    "from pymahjong.myEnv_pymahjong import myMahjongEnv\n",
    "\n",
    "env = myMahjongEnv()\n",
    "obs, info = env.reset()\n",
    "\n",
    "config = GPT2Config(n_embd=512, n_layer=8, n_head=8, n_positions=128)\n",
    "inference_model = Policy_Network(config).to(inference_device)\n",
    "inference_collator = inference_Collator(device=inference_device)\n",
    "\n",
    "inference_model.load_state_dict(torch.load(\"./checkpoints/epoch_9.pth\", weights_only=True))\n",
    "inference_model.eval()\n"
   ]
  },
  {
   "cell_type": "code",
   "execution_count": 10,
   "metadata": {},
   "outputs": [
    {
     "name": "stdout",
     "output_type": "stream",
     "text": [
      "aviable_action:\n",
      "['Pass', 'Chi2m4m', 'Chi1m2m']\n",
      "Pt: 25000\n",
      "Wind: North\n",
      "Hand: 1m 2m 4m 9m 9p 3s 7s 8s 1z 1z 5z 7z 7z \n",
      "River: 5p4h \n",
      "Riichi: No\n",
      "Menzen: Yes\n",
      "curr_pid: 3\n",
      "valid_actions: [35, 36, 45]\n",
      "model selected action: 36\n"
     ]
    },
    {
     "data": {
      "image/png": "[encoded data removed]",
      "text/plain": [
       "<Figure size 1600x400 with 1 Axes>"
      ]
     },
     "metadata": {},
     "output_type": "display_data"
    }
   ],
   "source": [
    "import matplotlib.pyplot as plt\n",
    "\n",
    "\n",
    "curr_pid = env.get_curr_player_id()\n",
    "valid_actions = env.get_valid_actions()\n",
    "\n",
    "input = inference_collator(obs)\n",
    "with torch.no_grad():\n",
    "    output = inference_model.inference(**input)\n",
    "probs = output[\"action_probs\"].cpu().numpy()\n",
    "action = np.random.choice(47, p=probs[0])\n",
    "\n",
    "phase = env.t.get_phase()\n",
    "if phase < 4:\n",
    "    aviable_action = env.t.get_self_actions()\n",
    "elif phase < 16:\n",
    "    aviable_action = env.t.get_response_actions()\n",
    "print(\"aviable_action:\")\n",
    "ls = []\n",
    "for idx, av_action in enumerate(aviable_action):\n",
    "    ls.append(av_action.to_string())\n",
    "\n",
    "print(list(set(ls)))\n",
    "\n",
    "print(env.t.players[curr_pid].to_string())\n",
    "print(\"curr_pid:\", curr_pid)\n",
    "print(\"valid_actions:\", valid_actions)\n",
    "print(\"model selected action:\", action)\n",
    "# 绘制动作概率分布\n",
    "plt.figure(figsize=(16, 4))\n",
    "plt.bar(range(47), probs[0])\n",
    "plt.xticks(np.arange(0, 47, 1))\n",
    "\n",
    "plt.xlabel(\"action\")\n",
    "plt.ylabel(\"probability\")\n",
    "plt.title(\"action distribution\")\n",
    "plt.show()\n",
    "\n",
    "obs, r, done, _ ,info = env.step(action_idx=action)"
   ]
  },
  {
   "cell_type": "markdown",
   "metadata": {},
   "source": [
    "# 5.检查环境bug"
   ]
  },
  {
   "cell_type": "code",
   "execution_count": null,
   "metadata": {},
   "outputs": [],
   "source": [
    "import numpy as np\n",
    "from base_module import *\n",
    "\n",
    "from pymahjong import *\n",
    "from pymahjong import MahjongPyWrapper as pm\n",
    "from pymahjong.myEnv_pymahjong import myMahjongEnv\n",
    "\n",
    "env = myMahjongEnv()\n",
    "\n",
    "flag = True\n",
    "# for i in range(1):\n",
    "while flag:\n",
    "    env.reset()\n",
    "    while not env.is_over():\n",
    "        curr_pid = env.get_curr_player_id()\n",
    "        phase = env.t.get_phase()\n",
    "        if phase < 4:\n",
    "            aviable_action = env.t.get_self_actions()\n",
    "        elif phase < 16:\n",
    "            aviable_action = env.t.get_response_actions()\n",
    "\n",
    "\n",
    "        ls = []\n",
    "        for action in aviable_action:\n",
    "            ls.append(action.action.name)\n",
    "        set_ls = set(ls)\n",
    "        if \"Riichi\" in set_ls:\n",
    "            flag = False\n",
    "            print(\"phase:\", phase)\n",
    "            print(\"aviable_action:\", set_ls)\n",
    "            break\n",
    "\n",
    "        valid_actions = env.get_valid_actions()\n",
    "        action = np.random.choice(valid_actions)\n",
    "        env.step(player_id=curr_pid, action_idx=action)\n",
    "\n",
    "    # for i in range(4):\n",
    "    #     obs = env.get_observation_with_return(i)\n",
    "    #     print(\"---------------------------\"\"player:\", i, \"---------------------------\")\n",
    "    #     print(obs)\n",
    "\n",
    "\n",
    "\n",
    "\n"
   ]
  },
  {
   "cell_type": "code",
   "execution_count": null,
   "metadata": {},
   "outputs": [],
   "source": [
    "import numpy as np\n",
    "from base_module import *\n",
    "\n",
    "from pymahjong import *\n",
    "from pymahjong import MahjongPyWrapper as pm\n",
    "from pymahjong.myEnv_pymahjong import myMahjongEnv\n",
    "\n",
    "env = myMahjongEnv()\n",
    "env.reset()"
   ]
  },
  {
   "cell_type": "code",
   "execution_count": null,
   "metadata": {},
   "outputs": [],
   "source": [
    "print(\"phase:\", env.t.get_phase())\n",
    "print(\"curr_pid:\", env.get_curr_player_id())\n",
    "phase = env.t.get_phase()\n",
    "if phase < 4:\n",
    "    aviable_action = env.t.get_self_actions()\n",
    "elif phase < 16:\n",
    "    aviable_action = env.t.get_response_actions()\n",
    "print(\"aviable_action:\")\n",
    "ls = []\n",
    "for idx, action in enumerate(aviable_action):\n",
    "    ls.append(action.to_string())\n",
    "    print(idx, action.to_string())\n",
    "    # print(action.action.name)\n",
    "\n",
    "print(\"aviable_action:\", ls)"
   ]
  },
  {
   "cell_type": "code",
   "execution_count": null,
   "metadata": {},
   "outputs": [],
   "source": [
    "env.get_valid_actions()"
   ]
  },
  {
   "cell_type": "code",
   "execution_count": 39,
   "metadata": {},
   "outputs": [],
   "source": [
    "env.step(env.get_curr_player_id(), 29)"
   ]
  },
  {
   "cell_type": "code",
   "execution_count": null,
   "metadata": {},
   "outputs": [],
   "source": [
    "print(env.riichi_stage2)\n",
    "print(env.pass_riichi)"
   ]
  },
  {
   "cell_type": "code",
   "execution_count": null,
   "metadata": {},
   "outputs": [],
   "source": [
    "env.action_record"
   ]
  },
  {
   "cell_type": "code",
   "execution_count": null,
   "metadata": {},
   "outputs": [],
   "source": [
    "print(env.t.to_string())"
   ]
  },
  {
   "cell_type": "markdown",
   "metadata": {},
   "source": [
    "### 5.1 手操检查"
   ]
  },
  {
   "cell_type": "code",
   "execution_count": null,
   "metadata": {},
   "outputs": [],
   "source": [
    "env.t.make_selection(7)\n",
    "phase = env.t.get_phase()\n",
    "if phase < 4:\n",
    "    aviable_action = env.t.get_self_actions()\n",
    "elif phase < 16:\n",
    "    aviable_action = env.t.get_response_actions()\n",
    "print(\"after phase:\", phase)\n",
    "print(\"after aviable_action:\")\n",
    "for idx, action in enumerate(aviable_action):\n",
    "    print(idx, action.to_string())\n"
   ]
  },
  {
   "cell_type": "code",
   "execution_count": null,
   "metadata": {},
   "outputs": [],
   "source": [
    "env.t.make_selection(0)\n",
    "phase = env.t.get_phase()\n",
    "if phase < 4:\n",
    "    aviable_action = env.t.get_self_actions()\n",
    "elif phase < 16:\n",
    "    aviable_action = env.t.get_response_actions()\n",
    "print(\"after phase:\", phase)\n",
    "print(\"after aviable_action:\")\n",
    "for idx, action in enumerate(aviable_action):\n",
    "    print(idx, action.to_string())"
   ]
  }
 ],
 "metadata": {
  "kernelspec": {
   "display_name": "RL",
   "language": "python",
   "name": "python3"
  },
  "language_info": {
   "codemirror_mode": {
    "name": "ipython",
    "version": 3
   },
   "file_extension": ".py",
   "mimetype": "text/x-python",
   "name": "python",
   "nbconvert_exporter": "python",
   "pygments_lexer": "ipython3",
   "version": "3.10.12"
  }
 },
 "nbformat": 4,
 "nbformat_minor": 2
}
