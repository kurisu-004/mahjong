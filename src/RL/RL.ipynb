{
 "cells": [
  {
   "cell_type": "markdown",
   "metadata": {},
   "source": [
    "# 1.验证模型结构"
   ]
  },
  {
   "cell_type": "code",
   "execution_count": null,
   "metadata": {},
   "outputs": [],
   "source": [
    "import torch\n",
    "import numpy as np\n",
    "from base_module import *\n",
    "\n",
    "from pymahjong import *\n",
    "from pymahjong import MahjongPyWrapper as pm\n",
    "from pymahjong.myEnv_pymahjong import myMahjongEnv\n",
    "\n",
    "env = myMahjongEnv()\n",
    "env.reset()\n",
    "\n",
    "\n",
    "# 检测GPU是否可用\n",
    "device = torch.device(\"cuda\" if torch.cuda.is_available() else \"cpu\")\n",
    "print(\"device:\", device)\n",
    "\n",
    "# 测试用输入\n",
    "batch =  []\n",
    "batch_size = 16\n",
    "feature_channels = 35\n",
    "feature_height = 4\n",
    "feature_width = 9\n",
    "\n",
    "action_space = 47\n",
    "\n",
    "while len(batch) < batch_size:\n",
    "    while not env.is_over():\n",
    "        curr_pid = env.get_curr_player_id()\n",
    "        valid_actions = env.get_valid_actions()\n",
    "        action = np.random.choice(valid_actions)\n",
    "        env.step(player_id=curr_pid, action=action)\n",
    "    print(env.get_payoffs())\n",
    "    for i in range(4):\n",
    "        batch.append(env.get_observation_with_return(i))\n",
    "    env.reset()\n",
    "collator = myCollator()"
   ]
  },
  {
   "cell_type": "code",
   "execution_count": null,
   "metadata": {},
   "outputs": [],
   "source": [
    "from base_module import *\n",
    "import torch\n",
    "import torch.nn as nn\n",
    "import numpy as np\n",
    "from transformers import GPT2Model, GPT2Config\n",
    "\n",
    "\n",
    "# 检测GPU是否可用\n",
    "device = torch.device(\"cuda\" if torch.cuda.is_available() else \"cpu\")\n",
    "print(\"device:\", device)\n",
    "# 创建模型\n",
    "config = GPT2Config(n_embd=512, n_layer=8, n_head=8, n_positions=128)\n",
    "model = Policy_Network(config).to(device)\n",
    "data = collator(batch)\n",
    "model.eval()\n"
   ]
  },
  {
   "cell_type": "code",
   "execution_count": null,
   "metadata": {},
   "outputs": [],
   "source": [
    "\n",
    "output = model.forward(**data)\n",
    "print(\"action_logits:\", output[\"action_logits\"].shape)\n",
    "print(output[\"action_logits\"][0])\n",
    "print(\"probs:\", output[\"action_probs\"][0])\n",
    "# print(\"loss:\", output[\"loss\"])\n",
    "print(\"action:\", output[\"action\"])\n"
   ]
  },
  {
   "cell_type": "markdown",
   "metadata": {},
   "source": [
    "# 2.验证麻将环境"
   ]
  },
  {
   "cell_type": "code",
   "execution_count": 1,
   "metadata": {},
   "outputs": [],
   "source": [
    "from pymahjong import *\n",
    "from pymahjong import MahjongPyWrapper as pm\n",
    "from pymahjong.myEnv_pymahjong import myMahjongEnv\n",
    "\n",
    "env = myMahjongEnv()\n",
    "env.reset()"
   ]
  },
  {
   "cell_type": "code",
   "execution_count": null,
   "metadata": {},
   "outputs": [],
   "source": [
    "print(env.get_valid_actions())\n",
    "print(env.legal_actions_mask_record)"
   ]
  },
  {
   "cell_type": "code",
   "execution_count": null,
   "metadata": {},
   "outputs": [],
   "source": [
    "while not env.is_over():\n",
    "    curr_pid = env.get_curr_player_id()\n",
    "    valid_actions = env.get_valid_actions()\n",
    "    action = np.random.choice(valid_actions)\n",
    "    env.step(player_id=curr_pid, action=action)\n",
    "print(env.get_payoffs())"
   ]
  },
  {
   "cell_type": "markdown",
   "metadata": {},
   "source": [
    "#### 展示当前phase和合法动作列表"
   ]
  },
  {
   "cell_type": "code",
   "execution_count": null,
   "metadata": {},
   "outputs": [],
   "source": [
    "phase, aviable_action = env._proceed()\n",
    "print(\"phase:\", phase)\n",
    "for idx, action in enumerate(aviable_action):\n",
    "    print(idx, action.to_string())\n",
    "\n",
    "valid_action = env.get_valid_actions()\n",
    "print(\"valid_action:\", valid_action)"
   ]
  },
  {
   "cell_type": "markdown",
   "metadata": {},
   "source": [
    "#### 执行动作"
   ]
  },
  {
   "cell_type": "code",
   "execution_count": 4,
   "metadata": {},
   "outputs": [],
   "source": [
    "env.step(2, 0)"
   ]
  },
  {
   "cell_type": "code",
   "execution_count": null,
   "metadata": {},
   "outputs": [],
   "source": [
    "for i in range(4):\n",
    "    print(\"player\", i, \"hand:\", env._get_hand_tiles(i))"
   ]
  },
  {
   "cell_type": "code",
   "execution_count": null,
   "metadata": {},
   "outputs": [],
   "source": [
    "obs = env.get_observation(1)\n",
    "print(\"tiles_features shape:\", obs['tiles_features'].shape)\n",
    "print(\"oya shape:\", obs['info']['oya'].shape)\n",
    "print(\"riichi_sticks shape:\", obs['info']['riichi_sticks'].shape)\n",
    "print(\"action_list shape:\", obs['action_list'].shape)\n",
    "print(\"action_list:\", obs['action_list'])\n",
    "print(\"self_action_mask shape:\", obs['self_action_mask'].shape)\n",
    "print(\"self_action_mask:\", obs['self_action_mask'])\n",
    "print(\"sum self_action_mask:\", obs['self_action_mask'].sum())\n",
    "print(\"attention_mask shape:\", obs['attention_mask'].shape)\n",
    "print(\"attention_mask:\", obs['attention_mask'])\n",
    "print(\"Q shape:\", obs['Q_values'].shape)\n",
    "print(\"Q:\", obs['Q_values'])\n",
    "print(\"legal_action_mask shape:\", obs['legal_action_mask'].shape)\n",
    "print(\"legal_action_mask:\", obs['legal_action_mask'])"
   ]
  },
  {
   "cell_type": "code",
   "execution_count": null,
   "metadata": {},
   "outputs": [],
   "source": [
    "for i in range(4):\n",
    "    print(\"player\", i, \"fuuros:\", env._get_fuuros(i))\n",
    "    print(\"points:\", env._get_points(i))"
   ]
  },
  {
   "cell_type": "code",
   "execution_count": null,
   "metadata": {},
   "outputs": [],
   "source": [
    "obs['info']"
   ]
  },
  {
   "cell_type": "markdown",
   "metadata": {},
   "source": [
    "# 3.使用模型来决策"
   ]
  },
  {
   "cell_type": "code",
   "execution_count": 1,
   "metadata": {},
   "outputs": [],
   "source": [
    "import os\n",
    "os.environ[\"CUDA_VISIBLE_DEVICES\"] = \"1\"\n",
    "import torch\n",
    "\n",
    "# 使用第一个可用的 GPU，即设备 1\n",
    "device = torch.device(\"cuda:0\" if torch.cuda.is_available() else \"cpu\")\n"
   ]
  },
  {
   "cell_type": "code",
   "execution_count": null,
   "metadata": {},
   "outputs": [],
   "source": [
    "import torch\n",
    "import numpy as np\n",
    "from base_module import *\n",
    "\n",
    "from pymahjong import *\n",
    "from pymahjong import MahjongPyWrapper as pm\n",
    "from pymahjong.myEnv_pymahjong import myMahjongEnv\n",
    "\n",
    "env = myMahjongEnv()\n",
    "env.reset()\n",
    "\n",
    "config = GPT2Config(n_embd=512, n_layer=8, n_head=8, n_positions=128)\n",
    "model = Policy_Network(config).to(device)\n",
    "model.eval()\n",
    "\n",
    "collator = myCollator()\n",
    "for i in range(100):\n",
    "    while not env.is_over():\n",
    "        curr_pid = env.get_curr_player_id()\n",
    "        obs = env.get_observation(curr_pid)\n",
    "        input = {\n",
    "        \"tiles_features\": torch.tensor(obs['tiles_features'], dtype=torch.float32).to(device),\n",
    "        \"oya\": torch.tensor(obs['info']['oya'], dtype=torch.float32).unsqueeze(0).to(device),\n",
    "        \"riichi_sticks\": torch.tensor(obs['info']['riichi_sticks'],dtype=torch.float32).unsqueeze(0).to(device),\n",
    "        \"action_list\": torch.tensor(obs['action_list'],dtype=torch.long).unsqueeze(0).to(device),\n",
    "        \"attention_mask\": torch.tensor(obs['attention_mask'],dtype=torch.long).unsqueeze(0).to(device),\n",
    "        \"legal_action_mask\": torch.tensor(obs['legal_action_mask'], dtype=bool).to(device)\n",
    "        }\n",
    "        output = model.inference(**input)\n",
    "        action = output[\"action\"].item()\n",
    "        env.step(player_id=curr_pid, action_idx=action)\n",
    "        # print(\"player:\", curr_pid, \"action:\", action)\n",
    "    print(env.get_payoffs())\n",
    "    env.reset()\n",
    "\n",
    "\n",
    "\n",
    "# print(\"action:\", output[\"action\"])"
   ]
  },
  {
   "cell_type": "markdown",
   "metadata": {},
   "source": [
    "# 4. 开始训练"
   ]
  },
  {
   "cell_type": "code",
   "execution_count": 1,
   "metadata": {},
   "outputs": [
    {
     "name": "stdout",
     "output_type": "stream",
     "text": [
      "inference_device: cuda:0\n",
      "training_device: cuda:1\n"
     ]
    },
    {
     "name": "stderr",
     "output_type": "stream",
     "text": [
      "/data/satori_hdd4/Ren/envs/RL_uzumaki/lib/python3.10/site-packages/torch/cuda/__init__.py:619: UserWarning: Can't initialize NVML\n",
      "  warnings.warn(\"Can't initialize NVML\")\n"
     ]
    }
   ],
   "source": [
    "import os\n",
    "os.environ[\"CUDA_VISIBLE_DEVICES\"] = \"2,3\"\n",
    "import torch\n",
    "\n",
    "# 使用第一个可用的 GPU，即设备 1\n",
    "inference_device = torch.device(\"cuda:0\" if torch.cuda.is_available() else \"cpu\")\n",
    "training_device = torch.device(\"cuda:1\" if torch.cuda.is_available() else \"cpu\")\n",
    "\n",
    "print(\"inference_device:\", inference_device)\n",
    "print(\"training_device:\", training_device)\n",
    "\n",
    "import numpy as np\n",
    "from base_module import *\n",
    "\n",
    "from pymahjong import *\n",
    "from pymahjong import MahjongPyWrapper as pm\n",
    "from pymahjong.myEnv_pymahjong import myMahjongEnv\n",
    "\n",
    "env = myMahjongEnv()\n",
    "env.reset()\n",
    "\n",
    "config = GPT2Config(n_embd=512, n_layer=8, n_head=8, n_positions=128)\n",
    "inference_model = Policy_Network(config).to(inference_device)\n",
    "inference_model.eval()\n",
    "\n",
    "training_model = Policy_Network(config).to(training_device)\n",
    "training_model.load_state_dict(inference_model.state_dict())\n",
    "training_model.train()\n",
    "\n",
    "collator = myCollator(device=training_device)\n",
    "inference_collator = inference_Collator(device=inference_device)\n",
    "optimizer = torch.optim.Adam(training_model.parameters(), lr=1e-6)\n",
    "# 工厂函数\n",
    "def make_env():\n",
    "    env = myMahjongEnv()\n",
    "    return env"
   ]
  },
  {
   "cell_type": "code",
   "execution_count": 2,
   "metadata": {},
   "outputs": [
    {
     "name": "stderr",
     "output_type": "stream",
     "text": [
      "  0%|          | 0/1 [00:00<?, ?it/s]"
     ]
    },
    {
     "name": "stdout",
     "output_type": "stream",
     "text": [
      "loss: -0.0\n",
      "loss: -0.0\n",
      "loss: -102.61990356445312\n",
      "loss: -247.82321166992188\n",
      "loss: -0.0\n",
      "loss: -0.0\n",
      "loss: 225.94436645507812\n"
     ]
    },
    {
     "name": "stderr",
     "output_type": "stream",
     "text": [
      "100%|██████████| 1/1 [00:00<00:00,  1.05it/s]\n",
      "100%|██████████| 1/1 [00:21<00:00, 21.78s/it]"
     ]
    },
    {
     "name": "stdout",
     "output_type": "stream",
     "text": [
      "loss: -0.0\n",
      "loss: -208.520263671875\n",
      "loss: 194.16737365722656\n"
     ]
    },
    {
     "name": "stderr",
     "output_type": "stream",
     "text": [
      "\n"
     ]
    }
   ],
   "source": [
    "from tqdm import tqdm\n",
    "import random\n",
    "\n",
    "epochs = 1\n",
    "num_envs = 1\n",
    "num_games = 10\n",
    "train_epochs = 1\n",
    "batch_size = 4\n",
    "\n",
    "# 创建vector环境\n",
    "env = gym.vector.AsyncVectorEnv([make_env for _ in range(num_envs)])\n",
    "obs, info = env.reset()\n",
    "done = np.array([False for _ in range(num_envs)])\n",
    "\n",
    "for epoch in tqdm(range(epochs)): \n",
    "   # 生成num_games局对局数据\n",
    "    dataset = []\n",
    "    while len(dataset) < num_games*4:\n",
    "        input = inference_collator(obs)\n",
    "        with torch.no_grad():\n",
    "            output = inference_model.inference(**input)\n",
    "        prob = output[\"action_probs\"].cpu().numpy()\n",
    "        # prob的形状为(num_envs, 47)\n",
    "        actions = np.array([np.random.choice(47, p=prob[i]) for i in range(num_envs)])\n",
    "        try:\n",
    "            obs, reward, done, _, info = env.step(actions)\n",
    "        except IndexError as e:\n",
    "            print(e)\n",
    "            # 重置环境\n",
    "            env.step_wait()\n",
    "            obs, info = env.close()\n",
    "            env = gym.vector.AsyncVectorEnv([make_env for _ in range(num_envs)])\n",
    "            obs, info = env.reset()\n",
    "            done = np.array([False for _ in range(num_envs)])\n",
    "            continue\n",
    "\n",
    "        if 'final_info' in info:\n",
    "            for i in range(num_envs):\n",
    "                if info['final_info'][i] is not None:\n",
    "                    # if info['final_info'][i]['payoffs'].any():\n",
    "                    dataset.extend(info['final_info'][i]['obs_with_return'])\n",
    "\n",
    "    # 从dataset中每次取出batch_size个数据进行训练\n",
    "    for train_epoch in tqdm(range(train_epochs)):\n",
    "        # 打乱数据\n",
    "        random.shuffle(dataset)\n",
    "        for batch_idx in range(0, len(dataset), batch_size):\n",
    "            batch = dataset[batch_idx:batch_idx+batch_size]\n",
    "            data = collator(batch)\n",
    "            # 移动数据到training_device\n",
    "            for key in data.keys():\n",
    "                if key == \"info\":\n",
    "                    for sub_key in data[key].keys():\n",
    "                        data[key][sub_key] = data[key][sub_key].to(training_device)\n",
    "                else:\n",
    "                    data[key] = data[key].to(training_device)\n",
    "            optimizer.zero_grad()\n",
    "            output = training_model.forward(**data)\n",
    "            loss = output[\"loss\"]\n",
    "            loss.backward()\n",
    "            optimizer.step()\n",
    "            print(\"loss:\", loss.item())\n",
    "\n",
    "    # 将training_model的参数复制到inference_model,并保存checkpoint\n",
    "    inference_model.load_state_dict(training_model.state_dict())\n",
    "    # torch.save(inference_model.state_dict(), f\"./checkpoints/epoch_{epoch}.pth\")\n",
    "\n",
    "\n",
    "\n",
    "\n"
   ]
  },
  {
   "cell_type": "code",
   "execution_count": null,
   "metadata": {},
   "outputs": [],
   "source": [
    "len(dataset)"
   ]
  },
  {
   "cell_type": "markdown",
   "metadata": {},
   "source": [
    "### 4.1 检查模型效果"
   ]
  },
  {
   "cell_type": "code",
   "execution_count": 1,
   "metadata": {},
   "outputs": [
    {
     "name": "stdout",
     "output_type": "stream",
     "text": [
      "inference_device: cuda:0\n"
     ]
    },
    {
     "name": "stderr",
     "output_type": "stream",
     "text": [
      "/data/satori_hdd4/Ren/envs/RL_uzumaki/lib/python3.10/site-packages/torch/cuda/__init__.py:619: UserWarning: Can't initialize NVML\n",
      "  warnings.warn(\"Can't initialize NVML\")\n"
     ]
    }
   ],
   "source": [
    "import os\n",
    "os.environ[\"CUDA_VISIBLE_DEVICES\"] = \"3\"\n",
    "import torch\n",
    "\n",
    "# 使用第一个可用的 GPU，即设备 1\n",
    "inference_device = torch.device(\"cuda:0\" if torch.cuda.is_available() else \"cpu\")\n",
    "# training_device = torch.device(\"cuda:1\" if torch.cuda.is_available() else \"cpu\")\n",
    "\n",
    "print(\"inference_device:\", inference_device)\n",
    "# print(\"training_device:\", training_device)\n",
    "\n",
    "import numpy as np\n",
    "from base_module import *\n",
    "\n",
    "from pymahjong import *\n",
    "from pymahjong import MahjongPyWrapper as pm\n",
    "from pymahjong.myEnv_pymahjong import myMahjongEnv\n",
    "\n",
    "env = myMahjongEnv()\n",
    "obs, info = env.reset()\n",
    "\n",
    "config = GPT2Config(n_embd=512, n_layer=8, n_head=8, n_positions=128)\n",
    "inference_model = Policy_Network(config).to(inference_device)\n",
    "inference_collator = inference_Collator(device=inference_device)\n",
    "\n",
    "inference_model.load_state_dict(torch.load(\"./checkpoints/epoch_32.pth\", weights_only=True))\n",
    "inference_model.eval()\n",
    "\n",
    "action_represenation = {\n",
    "    0: 'dicard 1m',\n",
    "    1: 'dicard 2m',\n",
    "    2: 'dicard 3m',\n",
    "    3: 'dicard 4m',\n",
    "    4: 'dicard 5m',\n",
    "    5: 'dicard 6m',\n",
    "    6: 'dicard 7m',\n",
    "    7: 'dicard 8m',\n",
    "    8: 'dicard 9m',\n",
    "    9: 'dicard 1p',\n",
    "    10: 'dicard 2p',\n",
    "    11: 'dicard 3p',\n",
    "    12: 'dicard 4p',\n",
    "    13: 'dicard 5p',\n",
    "    14: 'dicard 6p',\n",
    "    15: 'dicard 7p',\n",
    "    16: 'dicard 8p',\n",
    "    17: 'dicard 9p',\n",
    "    18: 'dicard 1s',\n",
    "    19: 'dicard 2s',\n",
    "    20: 'dicard 3s',\n",
    "    21: 'dicard 4s',\n",
    "    22: 'dicard 5s',\n",
    "    23: 'dicard 6s',\n",
    "    24: 'dicard 7s',\n",
    "    25: 'dicard 8s',\n",
    "    26: 'dicard 9s',\n",
    "    27: 'dicard east',\n",
    "    28: 'dicard south',\n",
    "    29: 'dicard west',\n",
    "    30: 'dicard north',\n",
    "    31: 'dicard white',\n",
    "    32: 'dicard green',\n",
    "    33: 'dicard red',\n",
    "    34: 'chi_left',\n",
    "    35: 'chi_middle',\n",
    "    36: 'chi_right',\n",
    "    37: 'pon',\n",
    "    38: 'ankan',\n",
    "    39: 'minkan',\n",
    "    40: 'kakan',\n",
    "    41: 'riichi',\n",
    "    42: 'ron',\n",
    "    43: 'tsumo',\n",
    "    44: 'kyushukyuhai',\n",
    "    45: 'pass_naki',\n",
    "    46: 'pass_riichi'\n",
    "}"
   ]
  },
  {
   "cell_type": "code",
   "execution_count": 69,
   "metadata": {},
   "outputs": [],
   "source": [
    "obs, info = env.reset()"
   ]
  },
  {
   "cell_type": "code",
   "execution_count": 110,
   "metadata": {},
   "outputs": [
    {
     "name": "stdout",
     "output_type": "stream",
     "text": [
      "Pt: 25000\n",
      "Wind: North\n",
      "Hand: 1m 2m 0m 2s 3s 0s 6s 1z 3z 7z 8m \n",
      "Calls: 2s3s(4s) \n",
      "River: 3p4h 6p8h 7m12 3m16 7s20h- 6m24h 8p27h \n",
      "Riichi: No\n",
      "Menzen: No\n",
      "model selected action: dicard 2s\n",
      "action_probs: [3.76385637e-21 1.35394883e-13 0.00000000e+00 0.00000000e+00\n",
      " 1.07795381e-32 0.00000000e+00 0.00000000e+00 3.58406237e-15\n",
      " 0.00000000e+00 0.00000000e+00 0.00000000e+00 0.00000000e+00\n",
      " 0.00000000e+00 0.00000000e+00 0.00000000e+00 0.00000000e+00\n",
      " 0.00000000e+00 0.00000000e+00 0.00000000e+00 1.00000000e+00\n",
      " 3.07444883e-42 0.00000000e+00 4.17801302e-31 7.25242335e-28\n",
      " 0.00000000e+00 0.00000000e+00 0.00000000e+00 1.09468745e-16\n",
      " 0.00000000e+00 7.91997422e-14 0.00000000e+00 0.00000000e+00\n",
      " 0.00000000e+00 2.09765452e-34 0.00000000e+00 0.00000000e+00\n",
      " 0.00000000e+00 0.00000000e+00 0.00000000e+00 0.00000000e+00\n",
      " 0.00000000e+00 0.00000000e+00 0.00000000e+00 0.00000000e+00\n",
      " 0.00000000e+00 0.00000000e+00 0.00000000e+00]\n"
     ]
    },
    {
     "data": {
      "image/png": "[encoded data removed]",
      "text/plain": [
       "<Figure size 1600x400 with 1 Axes>"
      ]
     },
     "metadata": {},
     "output_type": "display_data"
    }
   ],
   "source": [
    "import matplotlib.pyplot as plt\n",
    "\n",
    "curr_pid = env.get_curr_player_id()\n",
    "\n",
    "\n",
    "input = inference_collator(obs)\n",
    "with torch.no_grad():\n",
    "    output = inference_model.inference(**input)\n",
    "probs = output[\"action_probs\"].cpu().numpy()\n",
    "action = np.random.choice(47, p=probs[0])\n",
    "\n",
    "\n",
    "curr_pid = env.get_curr_player_id()\n",
    "print(env.t.players[curr_pid].to_string())\n",
    "print(\"model selected action:\", action_represenation[action])\n",
    "print(\"action_probs:\", probs[0])\n",
    "\n",
    "obs, r, done, _, info = env.step(action)\n",
    "# 绘制动作概率分布\n",
    "plt.figure(figsize=(16, 4))\n",
    "plt.bar(range(47), probs[0])\n",
    "plt.xticks(np.arange(0, 47, 1))\n",
    "\n",
    "plt.xlabel(\"action\")\n",
    "plt.ylabel(\"probability\")\n",
    "plt.title(\"action distribution\")\n",
    "plt.show()\n",
    "\n"
   ]
  },
  {
   "cell_type": "code",
   "execution_count": 20,
   "metadata": {},
   "outputs": [
    {
     "name": "stdout",
     "output_type": "stream",
     "text": [
      "Yama: 7m 1m 5z 2p 8p 1m 6s 6s 2s 4p 5p 1z 8m 9s (Wanpai)| 8p 2m 3p 9p 3m 5m 3s 4z 3s 4p 2z 7s 8m 9m 4m 4s 0p 4s 1s 9s 4p 2s 7m 5z 3p 5p 1p 8p 3s 5m 9p 2p 1p 4p 3p 7p 8m 2z 1m 3z 6m 2m 1s 3p 8s 6p 0m 8p 6s 6z 2p 7p 6p 2m 5p 8s 7p 9m 4z 5z 7p \n",
      "Dora Indicator(s):1m \n",
      "Remaining tiles: 61\n",
      "Player 0: \n",
      "Pt: 25000\n",
      "Wind: South\n",
      "Hand: 2m 4m 5m 6m 6p 1s 2s 0s 7s 7s 8s 3z 6z \n",
      "River: 9p2h 9m6h- 4s10h \n",
      "Riichi: No\n",
      "Menzen: Yes\n",
      "Player 1: \n",
      "Pt: 25000\n",
      "Wind: West\n",
      "Hand: 4m 6m 7m 5s 6s 9s 1z 7z 7z 7z \n",
      "Calls: 7m8m(9m) \n",
      "River: 6p3h 3m7h \n",
      "Riichi: No\n",
      "Menzen: No\n",
      "Player 2: \n",
      "Pt: 25000\n",
      "Wind: North\n",
      "Hand: 1m 3m 4m 1p 2p 9p 3s 4s 8s 1z 3z 4z 5z \n",
      "River: 5s4h 6z8h \n",
      "Riichi: No\n",
      "Menzen: Yes\n",
      "Player 3: \n",
      "Pt: 25000\n",
      "Wind: East\n",
      "Hand: 3m 6m 9m 1p 5s 7s 9s 1z 2z 2z 4z 6z 7z \n",
      "River: 3z1h 2s5h 1s9h \n",
      "Riichi: No\n",
      "Menzen: Yes\n",
      "\n",
      "Oya player 3\n",
      "Honba: 0\n",
      "Kyoutaku: 0\n",
      "\n"
     ]
    }
   ],
   "source": [
    "print(env.t.to_string())"
   ]
  },
  {
   "cell_type": "markdown",
   "metadata": {},
   "source": [
    "# 5.检查环境bug"
   ]
  },
  {
   "cell_type": "code",
   "execution_count": null,
   "metadata": {},
   "outputs": [],
   "source": [
    "import numpy as np\n",
    "from base_module import *\n",
    "\n",
    "from pymahjong import *\n",
    "from pymahjong import MahjongPyWrapper as pm\n",
    "from pymahjong.myEnv_pymahjong import myMahjongEnv\n",
    "\n",
    "env = myMahjongEnv()\n",
    "\n",
    "flag = True\n",
    "# for i in range(1):\n",
    "while flag:\n",
    "    env.reset()\n",
    "    while not env.is_over():\n",
    "        curr_pid = env.get_curr_player_id()\n",
    "        phase = env.t.get_phase()\n",
    "        if phase < 4:\n",
    "            aviable_action = env.t.get_self_actions()\n",
    "        elif phase < 16:\n",
    "            aviable_action = env.t.get_response_actions()\n",
    "\n",
    "\n",
    "        ls = []\n",
    "        for action in aviable_action:\n",
    "            ls.append(action.action.name)\n",
    "        set_ls = set(ls)\n",
    "        if \"Riichi\" in set_ls:\n",
    "            flag = False\n",
    "            print(\"phase:\", phase)\n",
    "            print(\"aviable_action:\", set_ls)\n",
    "            break\n",
    "\n",
    "        valid_actions = env.get_valid_actions()\n",
    "        action = np.random.choice(valid_actions)\n",
    "        env.step(player_id=curr_pid, action_idx=action)\n",
    "\n",
    "    # for i in range(4):\n",
    "    #     obs = env.get_observation_with_return(i)\n",
    "    #     print(\"---------------------------\"\"player:\", i, \"---------------------------\")\n",
    "    #     print(obs)\n",
    "\n",
    "\n",
    "\n",
    "\n"
   ]
  },
  {
   "cell_type": "code",
   "execution_count": null,
   "metadata": {},
   "outputs": [],
   "source": [
    "import numpy as np\n",
    "from base_module import *\n",
    "\n",
    "from pymahjong import *\n",
    "from pymahjong import MahjongPyWrapper as pm\n",
    "from pymahjong.myEnv_pymahjong import myMahjongEnv\n",
    "\n",
    "env = myMahjongEnv()\n",
    "env.reset()"
   ]
  },
  {
   "cell_type": "code",
   "execution_count": null,
   "metadata": {},
   "outputs": [],
   "source": [
    "print(\"phase:\", env.t.get_phase())\n",
    "print(\"curr_pid:\", env.get_curr_player_id())\n",
    "phase = env.t.get_phase()\n",
    "if phase < 4:\n",
    "    aviable_action = env.t.get_self_actions()\n",
    "elif phase < 16:\n",
    "    aviable_action = env.t.get_response_actions()\n",
    "print(\"aviable_action:\")\n",
    "ls = []\n",
    "for idx, action in enumerate(aviable_action):\n",
    "    ls.append(action.to_string())\n",
    "    print(idx, action.to_string())\n",
    "    # print(action.action.name)\n",
    "\n",
    "print(\"aviable_action:\", ls)"
   ]
  },
  {
   "cell_type": "code",
   "execution_count": null,
   "metadata": {},
   "outputs": [],
   "source": [
    "env.get_valid_actions()"
   ]
  },
  {
   "cell_type": "code",
   "execution_count": 39,
   "metadata": {},
   "outputs": [],
   "source": [
    "env.step(env.get_curr_player_id(), 29)"
   ]
  },
  {
   "cell_type": "code",
   "execution_count": null,
   "metadata": {},
   "outputs": [],
   "source": [
    "print(env.riichi_stage2)\n",
    "print(env.pass_riichi)"
   ]
  },
  {
   "cell_type": "code",
   "execution_count": null,
   "metadata": {},
   "outputs": [],
   "source": [
    "env.action_record"
   ]
  },
  {
   "cell_type": "code",
   "execution_count": null,
   "metadata": {},
   "outputs": [],
   "source": [
    "print(env.t.to_string())"
   ]
  },
  {
   "cell_type": "markdown",
   "metadata": {},
   "source": [
    "### 5.1 手操检查"
   ]
  },
  {
   "cell_type": "code",
   "execution_count": null,
   "metadata": {},
   "outputs": [],
   "source": [
    "env.t.make_selection(7)\n",
    "phase = env.t.get_phase()\n",
    "if phase < 4:\n",
    "    aviable_action = env.t.get_self_actions()\n",
    "elif phase < 16:\n",
    "    aviable_action = env.t.get_response_actions()\n",
    "print(\"after phase:\", phase)\n",
    "print(\"after aviable_action:\")\n",
    "for idx, action in enumerate(aviable_action):\n",
    "    print(idx, action.to_string())\n"
   ]
  },
  {
   "cell_type": "code",
   "execution_count": null,
   "metadata": {},
   "outputs": [],
   "source": [
    "env.t.make_selection(0)\n",
    "phase = env.t.get_phase()\n",
    "if phase < 4:\n",
    "    aviable_action = env.t.get_self_actions()\n",
    "elif phase < 16:\n",
    "    aviable_action = env.t.get_response_actions()\n",
    "print(\"after phase:\", phase)\n",
    "print(\"after aviable_action:\")\n",
    "for idx, action in enumerate(aviable_action):\n",
    "    print(idx, action.to_string())"
   ]
  },
  {
   "cell_type": "markdown",
   "metadata": {},
   "source": [
    "# 6. 数据增强验证"
   ]
  },
  {
   "cell_type": "code",
   "execution_count": 1,
   "metadata": {},
   "outputs": [],
   "source": [
    "import numpy as np\n",
    "from base_module import *\n",
    "\n",
    "from pymahjong import *\n",
    "from pymahjong import MahjongPyWrapper as pm\n",
    "from pymahjong.myEnv_pymahjong import myMahjongEnv\n",
    "\n",
    "env = myMahjongEnv()\n",
    "obs, info = env.reset()\n",
    "while not env.is_over():\n",
    "    valid_actions = env.get_valid_actions()\n",
    "    action = np.random.choice(valid_actions)\n",
    "    obs, r, done, _, info = env.step(action_idx=action)\n"
   ]
  },
  {
   "cell_type": "code",
   "execution_count": null,
   "metadata": {},
   "outputs": [],
   "source": [
    "torch.tensor([obs['tiles_features']])"
   ]
  },
  {
   "cell_type": "code",
   "execution_count": null,
   "metadata": {},
   "outputs": [],
   "source": [
    "action_list = info['obs_with_return'][0]['action_list']\n",
    "attention_mask = info['obs_with_return'][0]['attention_mask']\n",
    "\n",
    "collator = myCollator()\n",
    "augmented_tiles = collator.aug_tiles_features(torch.tensor([obs['tiles_features']]))\n",
    "print(\"augmented_tiles shape:\", augmented_tiles.shape)\n",
    "print(augmented_tiles[2][0])\n",
    "print(\"--------------------\")\n",
    "print(obs['tiles_features'][0])"
   ]
  },
  {
   "cell_type": "markdown",
   "metadata": {},
   "source": [
    "## 找到九种九牌的对局"
   ]
  },
  {
   "cell_type": "code",
   "execution_count": 1,
   "metadata": {},
   "outputs": [
    {
     "name": "stderr",
     "output_type": "stream",
     "text": [
      "/data/satori_hdd4/Ren/envs/RL_uzumaki/lib/python3.10/site-packages/torch/cuda/__init__.py:619: UserWarning: Can't initialize NVML\n",
      "  warnings.warn(\"Can't initialize NVML\")\n"
     ]
    }
   ],
   "source": [
    "import numpy as np\n",
    "from base_module import *\n",
    "\n",
    "from pymahjong import *\n",
    "from pymahjong import MahjongPyWrapper as pm\n",
    "from pymahjong.myEnv_pymahjong import myMahjongEnv\n",
    "\n",
    "env = myMahjongEnv()\n",
    "obs, info = env.reset()\n",
    "over = False\n",
    "while True:\n",
    "    valid_actions = env.get_valid_actions()\n",
    "    if 44 in valid_actions:\n",
    "        obs, r, done, _, info = env.step(action_idx=44)\n",
    "        break\n",
    "    else:\n",
    "        obs, info = env.reset()\n"
   ]
  },
  {
   "cell_type": "code",
   "execution_count": 3,
   "metadata": {},
   "outputs": [
    {
     "data": {
      "text/plain": [
       "array([], dtype=float64)"
      ]
     },
     "execution_count": 3,
     "metadata": {},
     "output_type": "execute_result"
    }
   ],
   "source": [
    "info['obs_with_return'][1]['legal_action_mask']"
   ]
  },
  {
   "cell_type": "code",
   "execution_count": 4,
   "metadata": {},
   "outputs": [],
   "source": [
    "collator = myCollator()\n",
    "data = collator(info['obs_with_return'])"
   ]
  }
 ],
 "metadata": {
  "kernelspec": {
   "display_name": "RL",
   "language": "python",
   "name": "python3"
  },
  "language_info": {
   "codemirror_mode": {
    "name": "ipython",
    "version": 3
   },
   "file_extension": ".py",
   "mimetype": "text/x-python",
   "name": "python",
   "nbconvert_exporter": "python",
   "pygments_lexer": "ipython3",
   "version": "3.10.12"
  }
 },
 "nbformat": 4,
 "nbformat_minor": 2
}
