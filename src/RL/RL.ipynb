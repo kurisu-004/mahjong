{
 "cells": [
  {
   "cell_type": "markdown",
   "metadata": {},
   "source": [
    "# 1.验证模型结构"
   ]
  },
  {
   "cell_type": "code",
   "execution_count": null,
   "metadata": {},
   "outputs": [],
   "source": [
    "import torch\n",
    "import numpy as np\n",
    "# 检测GPU是否可用\n",
    "device = torch.device(\"cuda\" if torch.cuda.is_available() else \"cpu\")\n",
    "print(\"device:\", device)\n",
    "\n",
    "# 测试用输入\n",
    "batch =  []\n",
    "batch_size = 32\n",
    "feature_channels = 34\n",
    "feature_height = 4\n",
    "feature_width = 34\n",
    "\n",
    "action_space = 49\n",
    "\n",
    "seq_lens = []\n",
    "for i in range(batch_size):\n",
    "    seq_lens.append(np.random.randint(1, 129))\n",
    "\n",
    "for seq_len in seq_lens:\n",
    "    \n",
    "    action_list = [i for i in range(seq_len)]\n",
    "    self_action_mask = np.random.randint(0, 2, (seq_len))\n",
    "    num_self_actions = np.sum(self_action_mask)\n",
    "    legal_action_mask = np.random.randint(0, 2, (num_self_actions, action_space))\n",
    "\n",
    "    info = {\n",
    "        'scores': np.random.rand(num_self_actions, 4),\n",
    "        'oya': np.random.randint(0, 4, (num_self_actions,)),\n",
    "        'honba_riichi_sticks': np.random.randint(0, 8, (num_self_actions, 2)),\n",
    "    }\n",
    "\n",
    "    tile_features = np.random.randint(0, 2, (num_self_actions, feature_channels, feature_height, feature_width))\n",
    "    batch.append({\n",
    "        'action_list': action_list,\n",
    "        'info': info,\n",
    "        'tile_features': tile_features,\n",
    "        'reward': 1000,\n",
    "        'self_action_mask': self_action_mask,\n",
    "        'legal_action_mask': legal_action_mask\n",
    "    })\n",
    "\n",
    "for i, sample in enumerate(batch):\n",
    "    action_list = sample['action_list']\n",
    "    self_action_mask = sample['self_action_mask']\n",
    "    legal_action_mask = sample['legal_action_mask']\n",
    "    info = sample['info']\n",
    "    tile_features = sample['tile_features']\n",
    "    print(\"action_list len:\", len(action_list))\n",
    "    print(\"scores shape:\", info['scores'].shape)\n",
    "    print(\"self_action_mask shape:\", self_action_mask.shape)\n",
    "    print(\"legal_action_mask shape:\", legal_action_mask.shape)\n",
    "    print(\"oya shape:\", info['oya'].shape)\n",
    "    print(\"honba_riichi_sticks shape:\", info['honba_riichi_sticks'].shape)\n",
    "    print(\"tile_features shape:\", tile_features.shape)\n",
    "    print(\"-----------------------------------------------------\")\n",
    "    if i == 3:\n",
    "        break"
   ]
  },
  {
   "cell_type": "code",
   "execution_count": null,
   "metadata": {},
   "outputs": [],
   "source": [
    "from base_module import myCollator\n",
    "# 验证collator\n",
    "collator = myCollator()\n",
    "data = collator(batch)"
   ]
  },
  {
   "cell_type": "code",
   "execution_count": null,
   "metadata": {},
   "outputs": [],
   "source": [
    "print(\"action_list shape:\", data['action_list'].shape)\n",
    "print(\"mask shape\", data['mask'].shape)\n",
    "print(data['mask'][:1])\n",
    "print(\"self_action_mask shape:\", data['self_action_mask'].shape)\n",
    "# print(\"self_action_mask:\", data['self_action_mask'][:1])\n",
    "num_self_actions = data['self_action_mask'].sum().item()\n",
    "print(\"num_self_actions\", num_self_actions)\n",
    "print(\"legal_action_mask shape:\", data['legal_action_mask'].shape)\n",
    "print(\"---------------------------------------------\")\n",
    "print(\"scores shape:\", data['info']['scores'].shape)\n",
    "print(\"oya shape:\", data['info']['oya'].shape)\n",
    "print(\"honba_riichi_sticks shape:\", data['info']['honba_riichi_sticks'].shape)\n",
    "print(\"---------------------------------------------\")\n",
    "print(\"tile_features shape:\", data['tile_features'].shape)\n",
    "print(\"Q shape:\", data['Q'].shape)\n",
    "print(\"Q:\", data['Q'][:50])\n"
   ]
  },
  {
   "cell_type": "code",
   "execution_count": null,
   "metadata": {},
   "outputs": [],
   "source": [
    "from base_module import *\n",
    "import torch\n",
    "import torch.nn as nn\n",
    "import numpy as np\n",
    "from transformers import GPT2Model, GPT2Config\n",
    "\n",
    "\n",
    "\n",
    "# 创建模型\n",
    "config = GPT2Config(n_embd=512, n_layer=8, n_head=8, n_positions=128)\n",
    "model = Policy_Network(config).to(device)\n"
   ]
  },
  {
   "cell_type": "code",
   "execution_count": null,
   "metadata": {},
   "outputs": [],
   "source": [
    "model.eval()\n",
    "output = model.forward(**data)\n",
    "print(\"action_logits shape:\", output['action_logits'].shape)\n",
    "# print(output['action_logits'][0])\n",
    "print(\"action_probs shape:\", output['action_probs'].shape)\n",
    "# print(output['action_probs'][0])\n",
    "print(\"loss :\", output['loss'])"
   ]
  },
  {
   "cell_type": "markdown",
   "metadata": {},
   "source": [
    "# 2.验证麻将环境"
   ]
  },
  {
   "cell_type": "code",
   "execution_count": 1,
   "metadata": {},
   "outputs": [],
   "source": [
    "from pymahjong import *\n",
    "from pymahjong import MahjongPyWrapper as pm\n",
    "from pymahjong.myEnv_pymahjong import myMahjongEnv\n",
    "\n",
    "env = myMahjongEnv()\n",
    "env.reset()"
   ]
  },
  {
   "cell_type": "code",
   "execution_count": 2,
   "metadata": {},
   "outputs": [
    {
     "name": "stdout",
     "output_type": "stream",
     "text": [
      "[0. 0. 0. 0.]\n"
     ]
    }
   ],
   "source": [
    "while not env.is_over():\n",
    "    curr_pid = env.get_curr_player_id()\n",
    "    valid_actions = env.get_valid_actions()\n",
    "    action = np.random.choice(valid_actions)\n",
    "    env.step(player_id=curr_pid, action=action)\n",
    "print(env.get_payoffs())"
   ]
  },
  {
   "cell_type": "markdown",
   "metadata": {},
   "source": [
    "#### 展示当前phase和合法动作列表"
   ]
  },
  {
   "cell_type": "code",
   "execution_count": null,
   "metadata": {},
   "outputs": [],
   "source": [
    "phase, aviable_action = env._proceed()\n",
    "print(\"phase:\", phase)\n",
    "for idx, action in enumerate(aviable_action):\n",
    "    print(idx, action.to_string())\n",
    "\n",
    "valid_action = env.get_valid_actions()\n",
    "print(\"valid_action:\", valid_action)"
   ]
  },
  {
   "cell_type": "markdown",
   "metadata": {},
   "source": [
    "#### 执行动作"
   ]
  },
  {
   "cell_type": "code",
   "execution_count": 5,
   "metadata": {},
   "outputs": [],
   "source": [
    "env.step(0, 1)"
   ]
  },
  {
   "cell_type": "code",
   "execution_count": 3,
   "metadata": {},
   "outputs": [
    {
     "name": "stdout",
     "output_type": "stream",
     "text": [
      "player 0 hand: ['2m', '5m', '8m', '5s', '5s', '5z', '9s']\n",
      "player 1 hand: ['3m', '6m', '9m', '4s']\n",
      "player 2 hand: ['1m', '5m', '4s', '2z', '3z', '3z', '4z']\n",
      "player 3 hand: ['8p', '7s', '7s', '9s']\n"
     ]
    }
   ],
   "source": [
    "for i in range(4):\n",
    "    print(\"player\", i, \"hand:\", env._get_hand_tiles(i))"
   ]
  },
  {
   "cell_type": "code",
   "execution_count": 3,
   "metadata": {},
   "outputs": [
    {
     "name": "stdout",
     "output_type": "stream",
     "text": [
      "tiles_features shape: (22, 35, 4, 9)\n",
      "oya shape: (22,)\n",
      "riichi_sticks shape: (22,)\n",
      "action_list shape: (128,)\n",
      "action_list: [141  32  58 104 142  17  74 114 177 154  32  70 178 170  26  57 110 172\n",
      "  29  63  96 170   2  71 127 163   5  47 106 163  18  81 131 122 178 160\n",
      "  84  71 127 154  16  52 129 126 143  21  82  56 124  37  31  79 106 149\n",
      "  28  58 107 153  16  68 103 142   3  54  37   3  59 100 143  27  60  94\n",
      " 145  22  67 125 142  17  58 119 156   0  61 125 171   6  74 120  84  61\n",
      " 119   0   0   0   0   0   0   0   0   0   0   0   0   0   0   0   0   0\n",
      "   0   0   0   0   0   0   0   0   0   0   0   0   0   0   0   0   0   0\n",
      "   0   0]\n",
      "self_action_mask shape: (128,)\n",
      "self_action_mask: [0 1 0 0 0 1 0 0 0 0 1 0 0 0 1 0 0 0 1 0 0 0 1 0 0 0 1 0 0 0 1 0 0 0 0 0 0\n",
      " 0 0 0 1 0 0 0 0 1 0 0 0 1 1 0 0 0 1 0 0 0 1 0 0 0 1 0 1 1 0 0 0 1 0 0 0 1\n",
      " 0 0 0 1 0 0 0 1 0 0 0 1 0 0 0 0 0 0 0 0 0 0 0 0 0 0 0 0 0 0 0 0 0 0 0 0 0\n",
      " 0 0 0 0 0 0 0 0 0 0 0 0 0 0 0 0 0]\n",
      "sum self_action_mask: 22\n",
      "padding_mask shape: (128,)\n",
      "padding_mask: [1 1 1 1 1 1 1 1 1 1 1 1 1 1 1 1 1 1 1 1 1 1 1 1 1 1 1 1 1 1 1 1 1 1 1 1 1\n",
      " 1 1 1 1 1 1 1 1 1 1 1 1 1 1 1 1 1 1 1 1 1 1 1 1 1 1 1 1 1 1 1 1 1 1 1 1 1\n",
      " 1 1 1 1 1 1 1 1 1 1 1 1 1 1 1 1 1 0 0 0 0 0 0 0 0 0 0 0 0 0 0 0 0 0 0 0 0\n",
      " 0 0 0 0 0 0 0 0 0 0 0 0 0 0 0 0 0]\n"
     ]
    }
   ],
   "source": [
    "obs = env.get_observation(0)\n",
    "print(\"tiles_features shape:\", obs['tiles_features'].shape)\n",
    "print(\"oya shape:\", obs['info']['oya'].shape)\n",
    "print(\"riichi_sticks shape:\", obs['info']['riichi_sticks'].shape)\n",
    "print(\"action_list shape:\", obs['action_list'].shape)\n",
    "print(\"action_list:\", obs['action_list'])\n",
    "print(\"self_action_mask shape:\", obs['self_action_mask'].shape)\n",
    "print(\"self_action_mask:\", obs['self_action_mask'])\n",
    "print(\"sum self_action_mask:\", obs['self_action_mask'].sum())\n",
    "print(\"padding_mask shape:\", obs['padding_mask'].shape)\n",
    "print(\"padding_mask:\", obs['padding_mask'])"
   ]
  },
  {
   "cell_type": "code",
   "execution_count": null,
   "metadata": {},
   "outputs": [],
   "source": [
    "for i in range(4):\n",
    "    print(\"player\", i, \"fuuros:\", env._get_fuuros(i))\n",
    "    print(\"points:\", env._get_points(i))"
   ]
  },
  {
   "cell_type": "code",
   "execution_count": null,
   "metadata": {},
   "outputs": [],
   "source": [
    "# print(\"dora indicator:\", env._get_dora_indicators())\n",
    "for i in range(10):\n",
    "    print(\"game record:\", env._get_action_record()[i])\n",
    "    print(\"player3\", env._change_action_record_aspects(3)[i])"
   ]
  },
  {
   "cell_type": "markdown",
   "metadata": {},
   "source": [
    "#### 查看phase和状态"
   ]
  },
  {
   "cell_type": "code",
   "execution_count": null,
   "metadata": {},
   "outputs": [],
   "source": [
    "table.players[1].get_river().to_string()"
   ]
  },
  {
   "cell_type": "code",
   "execution_count": null,
   "metadata": {},
   "outputs": [],
   "source": [
    "phase = table.get_phase()\n",
    "last_action = table.last_action\n",
    "honba = table.honba\n",
    "oya = table.oya\n",
    "riichi_sticks = table.riichibo\n",
    "dora = table.get_dora()\n",
    "yama = table.yama\n",
    "\n",
    "print(\"phase:\", phase)\n",
    "print(\"last_action:\", last_action)\n",
    "print(\"honba:\", honba)\n",
    "print(\"oya:\", oya)\n",
    "print(\"riichi_sticks:\", riichi_sticks)\n",
    "print(\"dora:\", dora[0])\n",
    "print(\"yama left:\", table.get_remain_tile())\n",
    "for tile in yama:\n",
    "    print(\"id:\", tile.id, \"tile:\", tile.tile, \"is_red:\", tile.red_dora)\n",
    "\n",
    "\n"
   ]
  }
 ],
 "metadata": {
  "kernelspec": {
   "display_name": "RL",
   "language": "python",
   "name": "python3"
  },
  "language_info": {
   "codemirror_mode": {
    "name": "ipython",
    "version": 3
   },
   "file_extension": ".py",
   "mimetype": "text/x-python",
   "name": "python",
   "nbconvert_exporter": "python",
   "pygments_lexer": "ipython3",
   "version": "3.12.2"
  }
 },
 "nbformat": 4,
 "nbformat_minor": 2
}
