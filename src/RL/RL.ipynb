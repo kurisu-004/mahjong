{
 "cells": [
  {
   "cell_type": "markdown",
   "metadata": {},
   "source": [
    "# 1.验证模型结构"
   ]
  },
  {
   "cell_type": "code",
   "execution_count": 1,
   "metadata": {},
   "outputs": [
    {
     "name": "stdout",
     "output_type": "stream",
     "text": [
      "device: cuda\n",
      "action_list len: 45\n",
      "scores shape: (22, 4)\n",
      "self_action_mask shape: (45,)\n",
      "legal_action_mask shape: (22, 49)\n",
      "oya shape: (22,)\n",
      "honba_riichi_sticks shape: (22, 2)\n",
      "tile_features shape: (22, 34, 4, 34)\n",
      "-----------------------------------------------------\n",
      "action_list len: 5\n",
      "scores shape: (2, 4)\n",
      "self_action_mask shape: (5,)\n",
      "legal_action_mask shape: (2, 49)\n",
      "oya shape: (2,)\n",
      "honba_riichi_sticks shape: (2, 2)\n",
      "tile_features shape: (2, 34, 4, 34)\n",
      "-----------------------------------------------------\n",
      "action_list len: 14\n",
      "scores shape: (4, 4)\n",
      "self_action_mask shape: (14,)\n",
      "legal_action_mask shape: (4, 49)\n",
      "oya shape: (4,)\n",
      "honba_riichi_sticks shape: (4, 2)\n",
      "tile_features shape: (4, 34, 4, 34)\n",
      "-----------------------------------------------------\n",
      "action_list len: 87\n",
      "scores shape: (41, 4)\n",
      "self_action_mask shape: (87,)\n",
      "legal_action_mask shape: (41, 49)\n",
      "oya shape: (41,)\n",
      "honba_riichi_sticks shape: (41, 2)\n",
      "tile_features shape: (41, 34, 4, 34)\n",
      "-----------------------------------------------------\n"
     ]
    }
   ],
   "source": [
    "import torch\n",
    "import numpy as np\n",
    "# 检测GPU是否可用\n",
    "device = torch.device(\"cuda\" if torch.cuda.is_available() else \"cpu\")\n",
    "print(\"device:\", device)\n",
    "\n",
    "# 测试用输入\n",
    "batch =  []\n",
    "batch_size = 32\n",
    "feature_channels = 34\n",
    "feature_height = 4\n",
    "feature_width = 34\n",
    "\n",
    "action_space = 49\n",
    "\n",
    "seq_lens = []\n",
    "for i in range(batch_size):\n",
    "    seq_lens.append(np.random.randint(1, 129))\n",
    "\n",
    "for seq_len in seq_lens:\n",
    "    \n",
    "    action_list = [i for i in range(seq_len)]\n",
    "    self_action_mask = np.random.randint(0, 2, (seq_len))\n",
    "    num_self_actions = np.sum(self_action_mask)\n",
    "    legal_action_mask = np.random.randint(0, 2, (num_self_actions, action_space))\n",
    "\n",
    "    info = {\n",
    "        'scores': np.random.rand(num_self_actions, 4),\n",
    "        'oya': np.random.randint(0, 4, (num_self_actions,)),\n",
    "        'honba_riichi_sticks': np.random.randint(0, 8, (num_self_actions, 2)),\n",
    "    }\n",
    "\n",
    "    tile_features = np.random.randint(0, 2, (num_self_actions, feature_channels, feature_height, feature_width))\n",
    "    batch.append({\n",
    "        'action_list': action_list,\n",
    "        'info': info,\n",
    "        'tile_features': tile_features,\n",
    "        'reward': 1000,\n",
    "        'self_action_mask': self_action_mask,\n",
    "        'legal_action_mask': legal_action_mask\n",
    "    })\n",
    "\n",
    "for i, sample in enumerate(batch):\n",
    "    action_list = sample['action_list']\n",
    "    self_action_mask = sample['self_action_mask']\n",
    "    legal_action_mask = sample['legal_action_mask']\n",
    "    info = sample['info']\n",
    "    tile_features = sample['tile_features']\n",
    "    print(\"action_list len:\", len(action_list))\n",
    "    print(\"scores shape:\", info['scores'].shape)\n",
    "    print(\"self_action_mask shape:\", self_action_mask.shape)\n",
    "    print(\"legal_action_mask shape:\", legal_action_mask.shape)\n",
    "    print(\"oya shape:\", info['oya'].shape)\n",
    "    print(\"honba_riichi_sticks shape:\", info['honba_riichi_sticks'].shape)\n",
    "    print(\"tile_features shape:\", tile_features.shape)\n",
    "    print(\"-----------------------------------------------------\")\n",
    "    if i == 3:\n",
    "        break"
   ]
  },
  {
   "cell_type": "code",
   "execution_count": 2,
   "metadata": {},
   "outputs": [],
   "source": [
    "from base_module import myCollator\n",
    "# 验证collator\n",
    "collator = myCollator()\n",
    "data = collator(batch)"
   ]
  },
  {
   "cell_type": "code",
   "execution_count": 3,
   "metadata": {},
   "outputs": [
    {
     "name": "stdout",
     "output_type": "stream",
     "text": [
      "action_list shape: torch.Size([32, 128])\n",
      "mask shape torch.Size([32, 128])\n",
      "tensor([[1., 1., 1., 1., 1., 1., 1., 1., 1., 1., 1., 1., 1., 1., 1., 1., 1., 1.,\n",
      "         1., 1., 1., 1., 1., 1., 1., 1., 1., 1., 1., 1., 1., 1., 1., 1., 1., 1.,\n",
      "         1., 1., 1., 1., 1., 1., 1., 1., 1., 0., 0., 0., 0., 0., 0., 0., 0., 0.,\n",
      "         0., 0., 0., 0., 0., 0., 0., 0., 0., 0., 0., 0., 0., 0., 0., 0., 0., 0.,\n",
      "         0., 0., 0., 0., 0., 0., 0., 0., 0., 0., 0., 0., 0., 0., 0., 0., 0., 0.,\n",
      "         0., 0., 0., 0., 0., 0., 0., 0., 0., 0., 0., 0., 0., 0., 0., 0., 0., 0.,\n",
      "         0., 0., 0., 0., 0., 0., 0., 0., 0., 0., 0., 0., 0., 0., 0., 0., 0., 0.,\n",
      "         0., 0.]], device='cuda:0')\n",
      "self_action_mask shape: torch.Size([32, 128])\n",
      "num_self_actions 1204\n",
      "legal_action_mask shape: torch.Size([1204, 49])\n",
      "---------------------------------------------\n",
      "scores shape: torch.Size([1204, 4])\n",
      "oya shape: torch.Size([1204])\n",
      "honba_riichi_sticks shape: torch.Size([1204, 2])\n",
      "---------------------------------------------\n",
      "tile_features shape: torch.Size([1204, 34, 4, 34])\n",
      "Q shape: torch.Size([1204])\n",
      "Q: tensor([ 809.7280,  817.9071,  826.1688,  834.5139,  842.9434,  851.4579,\n",
      "         860.0585,  868.7460,  877.5212,  886.3850,  895.3384,  904.3822,\n",
      "         913.5174,  922.7448,  932.0654,  941.4802,  950.9901,  960.5961,\n",
      "         970.2991,  980.1000,  990.0000, 1000.0000,  990.0000, 1000.0000,\n",
      "         970.2991,  980.1000,  990.0000, 1000.0000,  668.9720,  675.7292,\n",
      "         682.5548,  689.4493,  696.4134,  703.4479,  710.5534,  717.7307,\n",
      "         724.9805,  732.3036,  739.7006,  747.1723,  754.7195,  762.3429,\n",
      "         770.0433,  777.8215,  785.6783,  793.6144,  801.6307,  809.7280,\n",
      "         817.9071,  826.1688], device='cuda:0')\n"
     ]
    }
   ],
   "source": [
    "print(\"action_list shape:\", data['action_list'].shape)\n",
    "print(\"mask shape\", data['mask'].shape)\n",
    "print(data['mask'][:1])\n",
    "print(\"self_action_mask shape:\", data['self_action_mask'].shape)\n",
    "# print(\"self_action_mask:\", data['self_action_mask'][:1])\n",
    "num_self_actions = data['self_action_mask'].sum().item()\n",
    "print(\"num_self_actions\", num_self_actions)\n",
    "print(\"legal_action_mask shape:\", data['legal_action_mask'].shape)\n",
    "print(\"---------------------------------------------\")\n",
    "print(\"scores shape:\", data['info']['scores'].shape)\n",
    "print(\"oya shape:\", data['info']['oya'].shape)\n",
    "print(\"honba_riichi_sticks shape:\", data['info']['honba_riichi_sticks'].shape)\n",
    "print(\"---------------------------------------------\")\n",
    "print(\"tile_features shape:\", data['tile_features'].shape)\n",
    "print(\"Q shape:\", data['Q'].shape)\n",
    "print(\"Q:\", data['Q'][:50])\n"
   ]
  },
  {
   "cell_type": "code",
   "execution_count": 4,
   "metadata": {},
   "outputs": [],
   "source": [
    "from base_module import *\n",
    "import torch\n",
    "import torch.nn as nn\n",
    "import numpy as np\n",
    "from transformers import GPT2Model, GPT2Config\n",
    "\n",
    "\n",
    "\n",
    "# 创建模型\n",
    "config = GPT2Config(n_embd=512, n_layer=8, n_head=8, n_positions=128)\n",
    "model = Policy_Network(config).to(device)\n"
   ]
  },
  {
   "cell_type": "code",
   "execution_count": 5,
   "metadata": {},
   "outputs": [
    {
     "name": "stdout",
     "output_type": "stream",
     "text": [
      "action_logits shape: torch.Size([1204, 49])\n",
      "action_probs shape: torch.Size([1204, 49])\n",
      "loss : tensor(2976726.5000, device='cuda:0', grad_fn=<NegBackward0>)\n"
     ]
    }
   ],
   "source": [
    "model.eval()\n",
    "output = model.forward(**data)\n",
    "print(\"action_logits shape:\", output['action_logits'].shape)\n",
    "# print(output['action_logits'][0])\n",
    "print(\"action_probs shape:\", output['action_probs'].shape)\n",
    "# print(output['action_probs'][0])\n",
    "print(\"loss :\", output['loss'])"
   ]
  },
  {
   "cell_type": "markdown",
   "metadata": {},
   "source": [
    "# 2.验证麻将环境"
   ]
  },
  {
   "cell_type": "code",
   "execution_count": 3,
   "metadata": {},
   "outputs": [],
   "source": [
    "from pymahjong import *\n",
    "from pymahjong import MahjongPyWrapper as pm\n",
    "\n",
    "table = pm.Table()\n",
    "table.game_init()\n"
   ]
  },
  {
   "cell_type": "markdown",
   "metadata": {},
   "source": [
    "#### 执行动作"
   ]
  },
  {
   "cell_type": "code",
   "execution_count": 51,
   "metadata": {},
   "outputs": [
    {
     "name": "stdout",
     "output_type": "stream",
     "text": [
      "player2 is making selection\n",
      "avaliable self actions:\n",
      "Discard 2m\n",
      "Discard 3m\n",
      "Discard 6m\n",
      "Discard 1p\n",
      "Discard 4p\n",
      "Discard 7p\n",
      "Discard 7p\n",
      "Discard 9p\n",
      "Discard 1s\n",
      "Discard 2s\n",
      "Discard 7s\n",
      "Discard 2z\n",
      "Discard 5z\n",
      "Discard 7z\n"
     ]
    }
   ],
   "source": [
    "who = table.who_make_selection()\n",
    "print(f\"player{who} is making selection\")\n",
    "phase = table.get_phase()\n",
    "if phase < 4:\n",
    "\n",
    "    self_action = table.get_self_actions()\n",
    "    print(\"avaliable self actions:\")\n",
    "    for action in self_action:\n",
    "        # print(\"action:\", action.action, \"tile:\", action.correspond_tiles[0].id)\n",
    "        print(action.to_string())\n",
    "elif phase < 16:\n",
    "    actions = table.get_response_actions()\n",
    "    print(\"avaliable response actions:\")\n",
    "    for action in actions:\n",
    "        print(action.to_string())\n",
    "\n",
    "elif phase == 16:\n",
    "    print(\"game over\")\n",
    "\n",
    "else:\n",
    "    print(\"error\")\n"
   ]
  },
  {
   "cell_type": "code",
   "execution_count": 50,
   "metadata": {},
   "outputs": [],
   "source": [
    "table.make_selection(0)"
   ]
  },
  {
   "cell_type": "markdown",
   "metadata": {},
   "source": [
    "#### 查看phase和状态"
   ]
  },
  {
   "cell_type": "code",
   "execution_count": 46,
   "metadata": {},
   "outputs": [
    {
     "data": {
      "text/plain": [
       "'6s2h '"
      ]
     },
     "execution_count": 46,
     "metadata": {},
     "output_type": "execute_result"
    }
   ],
   "source": [
    "table.players[1].get_river().to_string()"
   ]
  },
  {
   "cell_type": "code",
   "execution_count": 39,
   "metadata": {},
   "outputs": [
    {
     "name": "stdout",
     "output_type": "stream",
     "text": [
      "phase: 4\n",
      "last_action: BaseAction.Discard\n",
      "honba: 0\n",
      "oya: 0\n",
      "riichi_sticks: 0\n",
      "dora: BaseTile._6s\n",
      "yama left: 68\n",
      "id: 25 tile: BaseTile._7m is_red: False\n",
      "id: 94 tile: BaseTile._6s is_red: False\n",
      "id: 56 tile: BaseTile._6p is_red: False\n",
      "id: 33 tile: BaseTile._9m is_red: False\n",
      "id: 17 tile: BaseTile._5m is_red: False\n",
      "id: 91 tile: BaseTile._5s is_red: False\n",
      "id: 78 tile: BaseTile._2s is_red: False\n",
      "id: 47 tile: BaseTile._3p is_red: False\n",
      "id: 103 tile: BaseTile._8s is_red: False\n",
      "id: 120 tile: BaseTile.north is_red: False\n",
      "id: 27 tile: BaseTile._7m is_red: False\n",
      "id: 2 tile: BaseTile._1m is_red: False\n",
      "id: 111 tile: BaseTile.east is_red: False\n",
      "id: 93 tile: BaseTile._6s is_red: False\n",
      "id: 68 tile: BaseTile._9p is_red: False\n",
      "id: 28 tile: BaseTile._8m is_red: False\n",
      "id: 55 tile: BaseTile._5p is_red: False\n",
      "id: 77 tile: BaseTile._2s is_red: False\n",
      "id: 60 tile: BaseTile._7p is_red: False\n",
      "id: 112 tile: BaseTile.south is_red: False\n",
      "id: 109 tile: BaseTile.east is_red: False\n",
      "id: 107 tile: BaseTile._9s is_red: False\n",
      "id: 134 tile: BaseTile.chu is_red: False\n",
      "id: 59 tile: BaseTile._6p is_red: False\n",
      "id: 24 tile: BaseTile._7m is_red: False\n",
      "id: 52 tile: BaseTile._5p is_red: True\n",
      "id: 35 tile: BaseTile._9m is_red: False\n",
      "id: 16 tile: BaseTile._5m is_red: True\n",
      "id: 40 tile: BaseTile._2p is_red: False\n",
      "id: 42 tile: BaseTile._2p is_red: False\n",
      "id: 105 tile: BaseTile._9s is_red: False\n",
      "id: 22 tile: BaseTile._6m is_red: False\n",
      "id: 96 tile: BaseTile._7s is_red: False\n",
      "id: 65 tile: BaseTile._8p is_red: False\n",
      "id: 9 tile: BaseTile._3m is_red: False\n",
      "id: 88 tile: BaseTile._5s is_red: True\n",
      "id: 92 tile: BaseTile._6s is_red: False\n",
      "id: 64 tile: BaseTile._8p is_red: False\n",
      "id: 1 tile: BaseTile._1m is_red: False\n",
      "id: 110 tile: BaseTile.east is_red: False\n",
      "id: 38 tile: BaseTile._1p is_red: False\n",
      "id: 81 tile: BaseTile._3s is_red: False\n",
      "id: 118 tile: BaseTile.west is_red: False\n",
      "id: 23 tile: BaseTile._6m is_red: False\n",
      "id: 18 tile: BaseTile._5m is_red: False\n",
      "id: 71 tile: BaseTile._9p is_red: False\n",
      "id: 30 tile: BaseTile._8m is_red: False\n",
      "id: 39 tile: BaseTile._1p is_red: False\n",
      "id: 123 tile: BaseTile.north is_red: False\n",
      "id: 70 tile: BaseTile._9p is_red: False\n",
      "id: 100 tile: BaseTile._8s is_red: False\n",
      "id: 104 tile: BaseTile._9s is_red: False\n",
      "id: 11 tile: BaseTile._3m is_red: False\n",
      "id: 124 tile: BaseTile.haku is_red: False\n",
      "id: 75 tile: BaseTile._1s is_red: False\n",
      "id: 102 tile: BaseTile._8s is_red: False\n",
      "id: 6 tile: BaseTile._2m is_red: False\n",
      "id: 26 tile: BaseTile._7m is_red: False\n",
      "id: 129 tile: BaseTile.hatsu is_red: False\n",
      "id: 132 tile: BaseTile.chu is_red: False\n",
      "id: 45 tile: BaseTile._3p is_red: False\n",
      "id: 122 tile: BaseTile.north is_red: False\n",
      "id: 36 tile: BaseTile._1p is_red: False\n",
      "id: 101 tile: BaseTile._8s is_red: False\n",
      "id: 86 tile: BaseTile._4s is_red: False\n",
      "id: 87 tile: BaseTile._4s is_red: False\n",
      "id: 115 tile: BaseTile.south is_red: False\n",
      "id: 48 tile: BaseTile._4p is_red: False\n",
      "id: 84 tile: BaseTile._4s is_red: False\n",
      "id: 72 tile: BaseTile._1s is_red: False\n",
      "id: 10 tile: BaseTile._3m is_red: False\n",
      "id: 32 tile: BaseTile._9m is_red: False\n",
      "id: 44 tile: BaseTile._3p is_red: False\n",
      "id: 20 tile: BaseTile._6m is_red: False\n",
      "id: 67 tile: BaseTile._8p is_red: False\n",
      "id: 31 tile: BaseTile._8m is_red: False\n",
      "id: 83 tile: BaseTile._3s is_red: False\n",
      "id: 106 tile: BaseTile._9s is_red: False\n",
      "id: 12 tile: BaseTile._4m is_red: False\n",
      "id: 66 tile: BaseTile._8p is_red: False\n",
      "id: 54 tile: BaseTile._5p is_red: False\n",
      "id: 74 tile: BaseTile._1s is_red: False\n"
     ]
    }
   ],
   "source": [
    "phase = table.get_phase()\n",
    "last_action = table.last_action\n",
    "honba = table.honba\n",
    "oya = table.oya\n",
    "riichi_sticks = table.riichibo\n",
    "dora = table.get_dora()\n",
    "yama = table.yama\n",
    "\n",
    "print(\"phase:\", phase)\n",
    "print(\"last_action:\", last_action)\n",
    "print(\"honba:\", honba)\n",
    "print(\"oya:\", oya)\n",
    "print(\"riichi_sticks:\", riichi_sticks)\n",
    "print(\"dora:\", dora[0])\n",
    "print(\"yama left:\", table.get_remain_tile())\n",
    "for tile in yama:\n",
    "    print(\"id:\", tile.id, \"tile:\", tile.tile, \"is_red:\", tile.red_dora)\n",
    "\n",
    "\n"
   ]
  }
 ],
 "metadata": {
  "kernelspec": {
   "display_name": "RL",
   "language": "python",
   "name": "python3"
  },
  "language_info": {
   "codemirror_mode": {
    "name": "ipython",
    "version": 3
   },
   "file_extension": ".py",
   "mimetype": "text/x-python",
   "name": "python",
   "nbconvert_exporter": "python",
   "pygments_lexer": "ipython3",
   "version": "3.12.2"
  }
 },
 "nbformat": 4,
 "nbformat_minor": 2
}
