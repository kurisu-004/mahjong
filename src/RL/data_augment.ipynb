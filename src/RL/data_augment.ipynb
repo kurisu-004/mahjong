{
 "cells": [
  {
   "cell_type": "code",
   "execution_count": 1,
   "metadata": {},
   "outputs": [
    {
     "name": "stderr",
     "output_type": "stream",
     "text": [
      "/data/satori_hdd4/Ren/envs/RL_uzumaki/lib/python3.10/site-packages/torch/cuda/__init__.py:619: UserWarning: Can't initialize NVML\n",
      "  warnings.warn(\"Can't initialize NVML\")\n"
     ]
    }
   ],
   "source": [
    "import numpy as np\n",
    "from base_module import *\n",
    "\n",
    "from pymahjong import *\n",
    "from pymahjong import MahjongPyWrapper as pm\n",
    "from pymahjong.myEnv_pymahjong import myMahjongEnv\n",
    "\n",
    "env = myMahjongEnv()\n",
    "obs, info = env.reset()\n",
    "while not env.is_over():\n",
    "    valid_actions = env.get_valid_actions()\n",
    "    action = np.random.choice(valid_actions)\n",
    "    obs, r, done, _, info = env.step(action_idx=action)"
   ]
  },
  {
   "cell_type": "code",
   "execution_count": 2,
   "metadata": {},
   "outputs": [],
   "source": [
    "collator = myCollator()\n",
    "data = collator(info['obs_with_return'])"
   ]
  },
  {
   "cell_type": "code",
   "execution_count": 8,
   "metadata": {},
   "outputs": [
    {
     "data": {
      "text/plain": [
       "array([0, 0, 0, 0, 1, 0, 0, 0, 0, 1, 0, 0, 0, 1, 0, 0, 0, 1, 0, 0, 0, 0,\n",
       "       1, 0, 0, 0, 0, 1, 0, 0, 0, 0, 1, 1, 0, 0, 0, 1, 0, 0, 0, 0, 1, 0,\n",
       "       0, 0, 0, 1, 0, 0, 0, 1, 0, 0, 0, 1, 0, 0, 0, 1, 0, 0, 0, 1, 1, 0,\n",
       "       0, 0, 0, 0, 1, 0, 0, 0, 0, 1, 0, 0, 0, 0, 0, 1, 0, 0, 0, 1, 0, 0,\n",
       "       0, 0, 0, 0, 0, 0, 0, 0, 0, 0, 0, 0, 0, 0, 0, 0, 0, 0, 0, 0, 0, 0,\n",
       "       0, 0, 0, 0, 0, 0, 0, 0, 0, 0, 0, 0, 0, 0, 0, 0, 0, 0])"
      ]
     },
     "execution_count": 8,
     "metadata": {},
     "output_type": "execute_result"
    }
   ],
   "source": [
    "info['obs_with_return'][0]['self_action_mask']"
   ]
  },
  {
   "cell_type": "code",
   "execution_count": 3,
   "metadata": {},
   "outputs": [
    {
     "name": "stdout",
     "output_type": "stream",
     "text": [
      "tiles_features shape: torch.Size([261, 35, 4, 9])\n",
      "oya: torch.Size([261, 1])\n",
      "riichi: torch.Size([261, 1])\n",
      "action_list torch.Size([12, 128])\n",
      "attention_mask torch.Size([12, 128])\n",
      "self_action_mask torch.Size([12, 128])\n",
      "legal_action_mask torch.Size([261, 47])\n",
      "Q_values torch.Size([261])\n"
     ]
    }
   ],
   "source": [
    "print(\"tiles_features shape:\",data['tiles_features'].shape)\n",
    "print(\"oya:\", data['info']['oya'].shape)\n",
    "print(\"riichi:\", data['info']['riichi_sticks'].shape)\n",
    "print(\"action_list\", data['action_list'].shape)\n",
    "print(\"attention_mask\", data['attention_mask'].shape)\n",
    "print(\"self_action_mask\", data['self_action_mask'].shape)\n",
    "print(\"legal_action_mask\", data['legal_action_mask'].shape)\n",
    "print(\"Q_values\", data['Q_values'].shape)"
   ]
  },
  {
   "cell_type": "code",
   "execution_count": 9,
   "metadata": {},
   "outputs": [
    {
     "data": {
      "text/plain": [
       "tensor([0, 0, 0,  ..., 0, 0, 0], device='cuda:0')"
      ]
     },
     "execution_count": 9,
     "metadata": {},
     "output_type": "execute_result"
    }
   ],
   "source": [
    "data['self_action_mask']"
   ]
  },
  {
   "cell_type": "code",
   "execution_count": 2,
   "metadata": {},
   "outputs": [],
   "source": [
    "collator = myCollator()\n",
    "tiles_features, oya, riichi_sticks, action_lists, attention_masks, self_action_masks, legal_action_mask = collator.unpack(info['obs_with_return'])"
   ]
  },
  {
   "cell_type": "code",
   "execution_count": 3,
   "metadata": {},
   "outputs": [
    {
     "name": "stdout",
     "output_type": "stream",
     "text": [
      "tiles_features: torch.Size([93, 35, 4, 9])\n"
     ]
    }
   ],
   "source": [
    "print(\"tiles_features:\", tiles_features.shape)\n"
   ]
  },
  {
   "cell_type": "code",
   "execution_count": null,
   "metadata": {},
   "outputs": [],
   "source": [
    "aug_tiles_feature = collator.aug_tiles_features(tiles_features)\n",
    "aug_action_list = collator.aug_action_list(action_lists, attention_masks)\n",
    "aug_legal_action_mask = collator.aug_legal_action_mask(legal_action_mask)"
   ]
  },
  {
   "cell_type": "code",
   "execution_count": 11,
   "metadata": {},
   "outputs": [
    {
     "name": "stdout",
     "output_type": "stream",
     "text": [
      "legal_action_mask: [False False False  True False False False  True False  True  True False\n",
      " False  True False False False False False False False False False False\n",
      " False False False False False  True  True  True  True  True False False\n",
      " False False False False False False False False False False False]\n"
     ]
    }
   ],
   "source": [
    "print(\"legal_action_mask:\", legal_action_mask[0][1])"
   ]
  },
  {
   "cell_type": "code",
   "execution_count": 12,
   "metadata": {},
   "outputs": [
    {
     "data": {
      "text/plain": [
       "tensor([False, False, False, False, False, False, False, False, False, False,\n",
       "        False, False,  True, False, False, False,  True, False,  True,  True,\n",
       "        False, False,  True, False, False, False, False, False, False,  True,\n",
       "         True,  True,  True,  True, False, False, False, False, False, False,\n",
       "        False, False, False, False, False, False, False])"
      ]
     },
     "execution_count": 12,
     "metadata": {},
     "output_type": "execute_result"
    }
   ],
   "source": [
    "aug_legal_action_mask[22]"
   ]
  },
  {
   "cell_type": "code",
   "execution_count": 13,
   "metadata": {},
   "outputs": [],
   "source": [
    "def _expand_list(list_):\n",
    "    return [item for item in list_ for _ in range(3)]"
   ]
  },
  {
   "cell_type": "code",
   "execution_count": 14,
   "metadata": {},
   "outputs": [
    {
     "data": {
      "text/plain": [
       "[1, 1, 1, 2, 2, 2, 3, 3, 3, 4, 4, 4, 5, 5, 5]"
      ]
     },
     "execution_count": 14,
     "metadata": {},
     "output_type": "execute_result"
    }
   ],
   "source": [
    "_expand_list([1,2,3,4,5])"
   ]
  }
 ],
 "metadata": {
  "kernelspec": {
   "display_name": "RL_uzumaki",
   "language": "python",
   "name": "python3"
  },
  "language_info": {
   "codemirror_mode": {
    "name": "ipython",
    "version": 3
   },
   "file_extension": ".py",
   "mimetype": "text/x-python",
   "name": "python",
   "nbconvert_exporter": "python",
   "pygments_lexer": "ipython3",
   "version": "3.10.12"
  }
 },
 "nbformat": 4,
 "nbformat_minor": 2
}
