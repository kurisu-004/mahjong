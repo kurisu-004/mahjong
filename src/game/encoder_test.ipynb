{
 "cells": [
  {
   "cell_type": "code",
   "execution_count": 1,
   "metadata": {},
   "outputs": [
    {
     "ename": "TypeError",
     "evalue": "unsupported operand type(s) for -: 'list' and 'int'",
     "output_type": "error",
     "traceback": [
      "\u001b[1;31m---------------------------------------------------------------------------\u001b[0m",
      "\u001b[1;31mTypeError\u001b[0m                                 Traceback (most recent call last)",
      "Cell \u001b[1;32mIn[1], line 12\u001b[0m\n\u001b[0;32m     10\u001b[0m num \u001b[38;5;241m=\u001b[39m \u001b[38;5;241m3\u001b[39m\n\u001b[0;32m     11\u001b[0m loader\u001b[38;5;241m.\u001b[39mreset(num)\n\u001b[1;32m---> 12\u001b[0m \u001b[38;5;28;01mfor\u001b[39;00m i \u001b[38;5;129;01min\u001b[39;00m \u001b[38;5;28mrange\u001b[39m(\u001b[38;5;28mlen\u001b[39m(\u001b[43mloader\u001b[49m\u001b[38;5;241;43m.\u001b[39;49m\u001b[43mlog\u001b[49m\u001b[43m[\u001b[49m\u001b[43mnum\u001b[49m\u001b[38;5;241;43m-\u001b[39;49m\u001b[38;5;241;43m1\u001b[39;49m\u001b[43m]\u001b[49m\u001b[38;5;241;43m-\u001b[39;49m\u001b[38;5;241;43m1\u001b[39;49m)):\n\u001b[0;32m     13\u001b[0m     loader\u001b[38;5;241m.\u001b[39mstep_forward()\n\u001b[0;32m     15\u001b[0m export \u001b[38;5;241m=\u001b[39m loader\u001b[38;5;241m.\u001b[39mexport_info()\n",
      "\u001b[1;31mTypeError\u001b[0m: unsupported operand type(s) for -: 'list' and 'int'"
     ]
    }
   ],
   "source": [
    "from components.Taikyoku_loader import Taikyoku_loader\n",
    "import os, sys\n",
    "import numpy as np\n",
    "\n",
    "np.set_printoptions(threshold=np.inf)\n",
    "\n",
    "path = os.path.join(os.path.dirname(os.path.dirname(os.getcwd())), \"dataset\")\n",
    "filename = \"test.log\"\n",
    "loader = Taikyoku_loader(os.path.join(path, filename))\n",
    "num = 3\n",
    "loader.reset(num)\n",
    "for i in range(len(loader.log[num-1])-1):\n",
    "    loader.step_forward()\n",
    "\n",
    "export = loader.export_info()"
   ]
  },
  {
   "cell_type": "code",
   "execution_count": 9,
   "metadata": {},
   "outputs": [
    {
     "name": "stdout",
     "output_type": "stream",
     "text": [
      "[[1.00e+00 0.00e+00 0.00e+00]\n",
      " [1.00e+00 2.00e+00 0.00e+00]\n",
      " [1.00e+00 1.00e+00 0.00e+00]\n",
      " [1.00e+00 1.00e+00 0.00e+00]\n",
      " [1.00e+00 0.00e+00 0.00e+00]\n",
      " [1.00e+00 7.00e+01 0.00e+00]\n",
      " [1.00e+00 0.00e+00 0.00e+00]\n",
      " [1.00e+00 0.00e+00 0.00e+00]\n",
      " [1.00e+00 0.00e+00 0.00e+00]\n",
      " [1.00e+00 0.00e+00 0.00e+00]\n",
      " [1.00e+00 3.09e+04 0.00e+00]\n",
      " [1.00e+00 2.99e+04 0.00e+00]\n",
      " [1.00e+00 5.90e+03 0.00e+00]\n",
      " [1.00e+00 3.33e+04 0.00e+00]\n",
      " [1.00e+00 0.00e+00 0.00e+00]\n",
      " [1.00e+00 0.00e+00 0.00e+00]\n",
      " [1.00e+00 0.00e+00 0.00e+00]\n",
      " [1.00e+00 0.00e+00 0.00e+00]\n",
      " [1.00e+00 0.00e+00 0.00e+00]\n",
      " [1.00e+00 0.00e+00 0.00e+00]\n",
      " [1.00e+00 0.00e+00 0.00e+00]\n",
      " [1.00e+00 0.00e+00 0.00e+00]\n",
      " [1.00e+00 0.00e+00 0.00e+00]\n",
      " [1.00e+00 0.00e+00 0.00e+00]\n",
      " [1.00e+00 0.00e+00 0.00e+00]\n",
      " [1.00e+00 0.00e+00 0.00e+00]\n",
      " [1.00e+00 0.00e+00 1.00e+00]\n",
      " [1.00e+00 0.00e+00 0.00e+00]\n",
      " [1.00e+00 0.00e+00 0.00e+00]\n",
      " [1.00e+00 0.00e+00 0.00e+00]\n",
      " [1.00e+00 0.00e+00 0.00e+00]\n",
      " [1.00e+00 0.00e+00 0.00e+00]\n",
      " [1.00e+00 0.00e+00 0.00e+00]\n",
      " [1.00e+00 0.00e+00 0.00e+00]\n",
      " [1.00e+00 0.00e+00 0.00e+00]\n",
      " [1.00e+00 0.00e+00 0.00e+00]\n",
      " [1.00e+00 0.00e+00 0.00e+00]\n",
      " [1.00e+00 0.00e+00 0.00e+00]\n",
      " [1.00e+00 0.00e+00 0.00e+00]\n",
      " [1.00e+00 0.00e+00 0.00e+00]\n",
      " [1.00e+00 0.00e+00 0.00e+00]\n",
      " [1.00e+00 0.00e+00 0.00e+00]\n",
      " [1.00e+00 0.00e+00 0.00e+00]\n",
      " [1.00e+00 0.00e+00 0.00e+00]\n",
      " [1.00e+00 0.00e+00 0.00e+00]\n",
      " [1.00e+00 0.00e+00 0.00e+00]\n",
      " [1.00e+00 0.00e+00 0.00e+00]\n",
      " [1.00e+00 0.00e+00 0.00e+00]\n",
      " [1.00e+00 0.00e+00 0.00e+00]\n",
      " [1.00e+00 0.00e+00 0.00e+00]\n",
      " [1.00e+00 0.00e+00 0.00e+00]\n",
      " [1.00e+00 0.00e+00 0.00e+00]\n",
      " [1.00e+00 0.00e+00 0.00e+00]\n",
      " [1.00e+00 0.00e+00 0.00e+00]\n",
      " [1.00e+00 0.00e+00 0.00e+00]]\n"
     ]
    }
   ],
   "source": [
    "from components.encoder import Encoder\n",
    "\n",
    "encoder = Encoder(export)\n",
    "print(encoder.exported_info['taikyoku_info']['remain_draw'])\n",
    "print(encoder.encode()[:,:3])"
   ]
  }
 ],
 "metadata": {
  "kernelspec": {
   "display_name": "Mahjong",
   "language": "python",
   "name": "python3"
  },
  "language_info": {
   "codemirror_mode": {
    "name": "ipython",
    "version": 3
   },
   "file_extension": ".py",
   "mimetype": "text/x-python",
   "name": "python",
   "nbconvert_exporter": "python",
   "pygments_lexer": "ipython3",
   "version": "3.12.2"
  }
 },
 "nbformat": 4,
 "nbformat_minor": 2
}
