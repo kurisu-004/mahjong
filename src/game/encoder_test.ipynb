{
 "cells": [
  {
   "cell_type": "code",
   "execution_count": null,
   "metadata": {},
   "outputs": [],
   "source": [
    "from components.Taikyoku_loader import Taikyoku_loader\n",
    "import os, sys\n",
    "import numpy as np\n",
    "\n",
    "np.set_printoptions(threshold=np.inf)\n",
    "\n",
    "path = os.path.join(os.path.dirname(os.path.dirname(os.getcwd())), \"dataset\")\n",
    "filename = \"test.log\"\n",
    "loader = Taikyoku_loader(os.path.join(path, filename))\n",
    "num = 3\n",
    "loader.reset(num)\n",
    "for i in range(len(loader.log[num-1])-1):\n",
    "    loader.step_forward()\n",
    "\n",
    "export = loader.export_info()"
   ]
  },
  {
   "cell_type": "code",
   "execution_count": null,
   "metadata": {},
   "outputs": [],
   "source": [
    "from components.encoder import Encoder\n",
    "\n",
    "encoder = Encoder(export)\n",
    "\n",
    "encoded_info, masked_info = encoder.encode(mask_type=1)\n",
    "print(masked_info.shape, encoded_info.shape)\n",
    "# print(masked_info)"
   ]
  }
 ],
 "metadata": {
  "kernelspec": {
   "display_name": "Mahjong",
   "language": "python",
   "name": "python3"
  },
  "language_info": {
   "codemirror_mode": {
    "name": "ipython",
    "version": 3
   },
   "file_extension": ".py",
   "mimetype": "text/x-python",
   "name": "python",
   "nbconvert_exporter": "python",
   "pygments_lexer": "ipython3",
   "version": "3.12.2"
  }
 },
 "nbformat": 4,
 "nbformat_minor": 2
}
