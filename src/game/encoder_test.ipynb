{
 "cells": [
  {
   "cell_type": "code",
   "execution_count": 1,
   "metadata": {},
   "outputs": [],
   "source": [
    "from components.Taikyoku_loader import Taikyoku_loader\n",
    "import os, sys\n",
    "import numpy as np\n",
    "\n",
    "np.set_printoptions(threshold=np.inf)\n",
    "\n",
    "path = os.path.join(os.path.dirname(os.path.dirname(os.getcwd())), \"dataset/Tenhou\")\n",
    "filename = \"test.log\"\n",
    "loader = Taikyoku_loader(os.path.join(path, filename))\n",
    "num = 1\n",
    "loader.reset(num)\n",
    "for i in range(len(loader.log[num-1])-1):\n",
    "    loader.step_forward()\n",
    "\n",
    "export = loader.export_info()"
   ]
  },
  {
   "cell_type": "code",
   "execution_count": 20,
   "metadata": {},
   "outputs": [
    {
     "name": "stdout",
     "output_type": "stream",
     "text": [
      "[0. 0. 1. 0. 0. 0. 0. 0. 0. 0. 0. 0. 0. 0. 0. 0. 0. 0. 0. 0. 0. 0. 0. 0.\n",
      " 0. 0. 0. 0. 0. 0. 0. 0. 0. 0. 0. 0. 0. 0. 0. 0. 0. 0. 0. 0. 0. 0. 0. 0.\n",
      " 0. 0. 0. 0. 0. 0. 0.]\n",
      "[0. 0. 0. 0. 0. 0. 0. 0. 0. 0. 0. 0. 0. 0. 0. 0. 0. 0. 0. 0. 0. 0. 0. 0.\n",
      " 0. 0. 0. 0. 0. 0. 0. 0. 0. 0. 0. 0. 0. 0. 0. 0. 0. 0. 0. 0. 0. 0. 0. 0.\n",
      " 0. 0. 0. 0. 0. 0. 0.]\n"
     ]
    }
   ],
   "source": [
    "from components.encoder import Encoder\n",
    "\n",
    "encoder = Encoder(export)\n",
    "input, label = encoder.encode()\n",
    "print(input.T[6])\n",
    "print(label.T[6])"
   ]
  }
 ],
 "metadata": {
  "kernelspec": {
   "display_name": "Mahjong",
   "language": "python",
   "name": "python3"
  },
  "language_info": {
   "codemirror_mode": {
    "name": "ipython",
    "version": 3
   },
   "file_extension": ".py",
   "mimetype": "text/x-python",
   "name": "python",
   "nbconvert_exporter": "python",
   "pygments_lexer": "ipython3",
   "version": "3.8.18"
  }
 },
 "nbformat": 4,
 "nbformat_minor": 2
}
