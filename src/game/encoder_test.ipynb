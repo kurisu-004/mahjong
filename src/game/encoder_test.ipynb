{
 "cells": [
  {
   "cell_type": "code",
   "execution_count": null,
   "metadata": {},
   "outputs": [],
   "source": [
    "# 测试牌型编码\n",
    "\n",
    "from components.encoder import Encoder\n",
    "\n",
    "tiles = [1,5, 16, 52, 88, 135]\n",
    "Encoder._encode_tiles(tiles)"
   ]
  },
  {
   "cell_type": "code",
   "execution_count": 1,
   "metadata": {},
   "outputs": [
    {
     "data": {
      "text/plain": [
       "array([[1., 0., 0., 0., 0., 0., 0., 0., 0.],\n",
       "       [0., 1., 0., 0., 0., 0., 0., 0., 0.],\n",
       "       [0., 0., 0., 0., 0., 0., 0., 0., 0.],\n",
       "       [0., 0., 1., 0., 0., 0., 0., 0., 0.],\n",
       "       [0., 0., 0., 0., 0., 0., 0., 0., 0.],\n",
       "       [0., 0., 0., 0., 0., 0., 0., 0., 0.],\n",
       "       [0., 0., 0., 0., 0., 0., 0., 0., 0.],\n",
       "       [0., 0., 0., 0., 0., 0., 0., 0., 0.],\n",
       "       [0., 0., 0., 1., 0., 0., 0., 0., 0.],\n",
       "       [0., 0., 0., 0., 1., 0., 0., 0., 0.],\n",
       "       [0., 0., 0., 0., 0., 0., 0., 0., 0.],\n",
       "       [0., 0., 0., 0., 0., 0., 0., 0., 0.],\n",
       "       [0., 0., 0., 0., 0., 1., 0., 0., 0.],\n",
       "       [0., 0., 0., 0., 0., 0., 1., 0., 0.],\n",
       "       [0., 0., 0., 0., 0., 0., 0., 1., 0.],\n",
       "       [0., 0., 0., 0., 0., 0., 0., 0., 1.],\n",
       "       [0., 0., 0., 0., 0., 0., 0., 0., 0.],\n",
       "       [0., 0., 1., 2., 3., 0., 1., 2., 3.]])"
      ]
     },
     "execution_count": 1,
     "metadata": {},
     "output_type": "execute_result"
    }
   ],
   "source": [
    "# 测试动作编码\n",
    "\n",
    "from components.encoder import Encoder\n",
    "from components.dict import Action\n",
    "\n",
    "actions = [\n",
    "    {'player': 0, 'Action': Action.DRAW},\n",
    "    {'player': 0, 'Action': Action.DISCARD_tsumokiri},\n",
    "    {'player': 1, 'Action': Action.CHI_top}, \n",
    "    {'player': 2, 'Action': Action.PON_fromKami}, \n",
    "    {'player': 3, 'Action': Action.MINKAN_fromShimo}, \n",
    "    {'player': 0, 'Action': Action.ANKAN}, \n",
    "    {'player': 1, 'Action': Action.KAKAN}, \n",
    "    {'player': 2, 'Action': Action.REACH}, \n",
    "    {'player': 3, 'Action': Action.AGARI}\n",
    "]\n",
    "\n",
    "encoder = Encoder()\n",
    "encoder._encode_actions(actions)"
   ]
  }
 ],
 "metadata": {
  "kernelspec": {
   "display_name": "Mahjong",
   "language": "python",
   "name": "python3"
  },
  "language_info": {
   "codemirror_mode": {
    "name": "ipython",
    "version": 3
   },
   "file_extension": ".py",
   "mimetype": "text/x-python",
   "name": "python",
   "nbconvert_exporter": "python",
   "pygments_lexer": "ipython3",
   "version": "3.8.18"
  }
 },
 "nbformat": 4,
 "nbformat_minor": 2
}
