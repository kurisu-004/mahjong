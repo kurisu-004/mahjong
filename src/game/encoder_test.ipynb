{
 "cells": [
  {
   "cell_type": "code",
   "execution_count": 1,
   "metadata": {},
   "outputs": [
    {
     "name": "stdout",
     "output_type": "stream",
     "text": [
      "{'taikyoku_info': {'bakaze': <Bakaze.EAST: 1>, 'kyoku': 1, 'oya': 0, 'honba': 0, 'reach_stick': 0, 'kyotaku': 0, 'dora': [128], 'remain_draw': 60}, 'player0': {'tehai': [0, 4, 8, 10, 15, 22, 24, 30, 80, 89, 97, 103, 133], 'naki': [], 'sutehai': [{'hai': 38, 'tsumokiri': False}, {'hai': 131, 'tsumokiri': False}, {'hai': 54, 'tsumokiri': False}], 'point': 25000, 'isReach': False}, 'player1': {'tehai': [7, 14, 20, 25, 32, 33, 57, 65, 66, 81, 108, 121, 123], 'naki': [], 'sutehai': [{'hai': 119, 'tsumokiri': False}, {'hai': 1, 'tsumokiri': False}, {'hai': 69, 'tsumokiri': False}], 'point': 25000, 'isReach': False}, 'player2': {'tehai': [17, 45, 51, 52, 55, 56, 60, 67, 68, 78, 86, 110, 135], 'naki': [], 'sutehai': [{'hai': 34, 'tsumokiri': False}, {'hai': 118, 'tsumokiri': False}], 'point': 25000, 'isReach': False}, 'player3': {'tehai': [21, 26, 43, 47, 48, 53, 59, 79, 82, 83, 106, 111, 126], 'naki': [], 'sutehai': [{'hai': 115, 'tsumokiri': False}, {'hai': 35, 'tsumokiri': False}], 'point': 25000, 'isReach': False}}\n",
      "{'taikyoku_info': {'bakaze': <Bakaze.EAST: 1>, 'kyoku': 1, 'oya': 0, 'honba': 0, 'reach_stick': 0, 'kyotaku': 0, 'dora': [128], 'remain_draw': 50}, 'player0': {'tehai': [0, 4, 8, 10, 15, 22, 24, 30, 77, 80, 97, 100, 103], 'naki': [], 'sutehai': [{'hai': 38, 'tsumokiri': False}, {'hai': 131, 'tsumokiri': False}, {'hai': 54, 'tsumokiri': False}, {'hai': 133, 'tsumokiri': False}, {'hai': 89, 'tsumokiri': False}], 'point': 25000, 'isReach': False}, 'player1': {'tehai': [7, 14, 20, 25, 32, 33, 57, 65, 66, 81, 121, 123, 134], 'naki': [], 'sutehai': [{'hai': 119, 'tsumokiri': False}, {'hai': 1, 'tsumokiri': False}, {'hai': 69, 'tsumokiri': False}, {'hai': 108, 'tsumokiri': False}, {'hai': 114, 'tsumokiri': False}], 'point': 25000, 'isReach': False}, 'player2': {'tehai': [17, 45, 51, 52, 55, 56, 60, 67, 68, 71, 78, 86, 94], 'naki': [], 'sutehai': [{'hai': 34, 'tsumokiri': False}, {'hai': 118, 'tsumokiri': False}, {'hai': 110, 'tsumokiri': False}, {'hai': 105, 'tsumokiri': False}, {'hai': 135, 'tsumokiri': False}], 'point': 25000, 'isReach': False}, 'player3': {'tehai': [21, 26, 43, 47, 48, 49, 53, 59, 79, 82, 83, 98, 106], 'naki': [], 'sutehai': [{'hai': 115, 'tsumokiri': False}, {'hai': 35, 'tsumokiri': False}, {'hai': 111, 'tsumokiri': False}, {'hai': 126, 'tsumokiri': False}, {'hai': 70, 'tsumokiri': False}], 'point': 25000, 'isReach': False}}\n",
      "{'taikyoku_info': {'bakaze': <Bakaze.EAST: 1>, 'kyoku': 1, 'oya': 0, 'honba': 1, 'reach_stick': 0, 'kyotaku': 300, 'dora': [124], 'remain_draw': 66}, 'player0': {'tehai': [7, 8, 18, 21, 50, 57, 68, 70, 71, 86, 94, 95, 100], 'naki': [], 'sutehai': [{'hai': 39, 'tsumokiri': False}], 'point': 37000, 'isReach': False}, 'player1': {'tehai': [5, 14, 27, 28, 32, 56, 81, 88, 104, 108, 113, 133, 134], 'naki': [], 'sutehai': [{'hai': 69, 'tsumokiri': False}], 'point': 21000, 'isReach': False}, 'player2': {'tehai': [4, 13, 52, 64, 66, 67, 74, 82, 101, 116, 122, 128, 135], 'naki': [], 'sutehai': [{'hai': 2, 'tsumokiri': False}], 'point': 21000, 'isReach': False}, 'player3': {'tehai': [1, 15, 16, 23, 25, 30, 31, 60, 61, 79, 90, 99, 123, 126], 'naki': [], 'sutehai': [], 'point': 21000, 'isReach': False}}\n"
     ]
    }
   ],
   "source": [
    "from components.Taikyoku_loader import Taikyoku_loader\n",
    "import os, sys\n",
    "\n",
    "\n",
    "path = os.path.join(os.path.dirname(os.path.dirname(os.getcwd())), \"dataset/Tenhou\")\n",
    "filename = \"test.log\"\n",
    "loader = Taikyoku_loader(os.path.join(path, filename))\n",
    "for j in range(3):\n",
    "    for i in range(60):\n",
    "        loader.step_forward()\n",
    "    export = loader.export_info()\n",
    "    print(export)"
   ]
  },
  {
   "cell_type": "code",
   "execution_count": 2,
   "metadata": {},
   "outputs": [
    {
     "data": {
      "text/plain": [
       "array([[1., 0., 0., 0., 0., 0.],\n",
       "       [0., 1., 0., 0., 0., 0.],\n",
       "       [0., 0., 0., 0., 0., 0.],\n",
       "       [0., 0., 0., 0., 0., 0.],\n",
       "       [0., 0., 1., 0., 0., 0.],\n",
       "       [0., 0., 0., 0., 0., 0.],\n",
       "       [0., 0., 0., 0., 0., 0.],\n",
       "       [0., 0., 0., 0., 0., 0.],\n",
       "       [0., 0., 0., 0., 0., 0.],\n",
       "       [0., 0., 0., 0., 0., 0.],\n",
       "       [0., 0., 0., 0., 0., 0.],\n",
       "       [0., 0., 0., 0., 0., 0.],\n",
       "       [0., 0., 0., 0., 0., 0.],\n",
       "       [0., 0., 0., 1., 0., 0.],\n",
       "       [0., 0., 0., 0., 0., 0.],\n",
       "       [0., 0., 0., 0., 0., 0.],\n",
       "       [0., 0., 0., 0., 0., 0.],\n",
       "       [0., 0., 0., 0., 0., 0.],\n",
       "       [0., 0., 0., 0., 0., 0.],\n",
       "       [0., 0., 0., 0., 0., 0.],\n",
       "       [0., 0., 0., 0., 0., 0.],\n",
       "       [0., 0., 0., 0., 0., 0.],\n",
       "       [0., 0., 0., 0., 1., 0.],\n",
       "       [0., 0., 0., 0., 0., 0.],\n",
       "       [0., 0., 0., 0., 0., 0.],\n",
       "       [0., 0., 0., 0., 0., 0.],\n",
       "       [0., 0., 0., 0., 0., 0.],\n",
       "       [0., 0., 0., 0., 0., 0.],\n",
       "       [0., 0., 0., 0., 0., 0.],\n",
       "       [0., 0., 0., 0., 0., 0.],\n",
       "       [0., 0., 0., 0., 0., 0.],\n",
       "       [0., 0., 0., 0., 0., 0.],\n",
       "       [0., 0., 0., 0., 0., 0.],\n",
       "       [0., 0., 0., 0., 0., 1.],\n",
       "       [0., 0., 1., 1., 1., 0.]])"
      ]
     },
     "execution_count": 2,
     "metadata": {},
     "output_type": "execute_result"
    }
   ],
   "source": [
    "# 测试牌型编码\n",
    "\n",
    "from components.encoder import Encoder\n",
    "\n",
    "tiles = [1,5, 16, 52, 88, 135]\n",
    "Encoder._encode_tiles(tiles)"
   ]
  },
  {
   "cell_type": "code",
   "execution_count": 3,
   "metadata": {},
   "outputs": [
    {
     "data": {
      "text/plain": [
       "array([[1., 0., 0., 0., 0., 0., 0., 0., 0.],\n",
       "       [0., 1., 0., 0., 0., 0., 0., 0., 0.],\n",
       "       [0., 0., 0., 0., 0., 0., 0., 0., 0.],\n",
       "       [0., 0., 1., 0., 0., 0., 0., 0., 0.],\n",
       "       [0., 0., 0., 0., 0., 0., 0., 0., 0.],\n",
       "       [0., 0., 0., 0., 0., 0., 0., 0., 0.],\n",
       "       [0., 0., 0., 0., 0., 0., 0., 0., 0.],\n",
       "       [0., 0., 0., 0., 0., 0., 0., 0., 0.],\n",
       "       [0., 0., 0., 1., 0., 0., 0., 0., 0.],\n",
       "       [0., 0., 0., 0., 1., 0., 0., 0., 0.],\n",
       "       [0., 0., 0., 0., 0., 0., 0., 0., 0.],\n",
       "       [0., 0., 0., 0., 0., 0., 0., 0., 0.],\n",
       "       [0., 0., 0., 0., 0., 1., 0., 0., 0.],\n",
       "       [0., 0., 0., 0., 0., 0., 1., 0., 0.],\n",
       "       [0., 0., 0., 0., 0., 0., 0., 1., 0.],\n",
       "       [0., 0., 0., 0., 0., 0., 0., 0., 0.],\n",
       "       [0., 0., 0., 0., 0., 0., 0., 0., 1.],\n",
       "       [0., 0., 0., 0., 0., 0., 0., 0., 0.],\n",
       "       [0., 0., 0., 0., 0., 0., 0., 0., 0.],\n",
       "       [0., 0., 1., 2., 3., 0., 1., 2., 3.]])"
      ]
     },
     "execution_count": 3,
     "metadata": {},
     "output_type": "execute_result"
    }
   ],
   "source": [
    "# 测试动作编码\n",
    "\n",
    "from components.encoder import Encoder\n",
    "from components.dict import Action\n",
    "\n",
    "actions = [\n",
    "    {'player': 0, 'Action': Action.DRAW},\n",
    "    {'player': 0, 'Action': Action.DISCARD_tsumokiri},\n",
    "    {'player': 1, 'Action': Action.CHI_top}, \n",
    "    {'player': 2, 'Action': Action.PON_fromKami}, \n",
    "    {'player': 3, 'Action': Action.MINKAN_fromShimo}, \n",
    "    {'player': 0, 'Action': Action.ANKAN}, \n",
    "    {'player': 1, 'Action': Action.KAKAN}, \n",
    "    {'player': 2, 'Action': Action.REACH_declear},\n",
    "    {'player': 3, 'Action': Action.AGARI}\n",
    "]\n",
    "\n",
    "Encoder._encode_actions(actions)"
   ]
  }
 ],
 "metadata": {
  "kernelspec": {
   "display_name": "Mahjong",
   "language": "python",
   "name": "python3"
  },
  "language_info": {
   "codemirror_mode": {
    "name": "ipython",
    "version": 3
   },
   "file_extension": ".py",
   "mimetype": "text/x-python",
   "name": "python",
   "nbconvert_exporter": "python",
   "pygments_lexer": "ipython3",
   "version": "3.8.18"
  }
 },
 "nbformat": 4,
 "nbformat_minor": 2
}
