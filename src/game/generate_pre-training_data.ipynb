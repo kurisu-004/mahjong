{
 "cells": [
  {
   "cell_type": "markdown",
   "metadata": {},
   "source": [
    "## 根据天凤的牌谱文件生成训练使用的dataset"
   ]
  },
  {
   "cell_type": "code",
   "execution_count": 6,
   "metadata": {},
   "outputs": [],
   "source": [
    "import os, sys, re, json, torch\n",
    "from components.Taikyoku_loader import Taikyoku_loader\n",
    "from components.encoder import Encoder\n",
    "from enum import Enum\n",
    "import numpy as np\n",
    "\n",
    "def default(obj):\n",
    "    if isinstance(obj, Enum):\n",
    "        return obj.value\n",
    "    raise TypeError(f\"{obj!r} is not JSON serializable\")\n",
    "\n",
    "os.makedirs(\"../../dataset/Pretaining\", exist_ok=True)\n",
    "# dataset_path = \"../../dataset/Tenhou/2011_nan_4_kuitan_aka\"\n",
    "dataset_path = \"../../dataset\"\n",
    "output_path = \"../../dataset/Pretaining\"\n",
    "\n",
    "seq_buffer = []\n",
    "masked_info_buffer = []\n",
    "batch_index = 0\n",
    "slice_num = 8\n",
    "\n",
    "# 日志文件名的正则表达式，数字开头\".log\"结尾\n",
    "# file_name_pattern = re.compile(r\"^\\d+\\.log$\")\n",
    "file_name_pattern = re.compile(r\"^test\\.log$\")\n",
    "file_list = os.listdir(dataset_path)\n",
    "file_list = [f for f in file_list if file_name_pattern.match(f)]\n",
    "\n",
    "# 读取所有日志文件\n",
    "for file in file_list:\n",
    "    loader = Taikyoku_loader(os.path.join(dataset_path, file))\n",
    "\n",
    "    for kyoku_index, kyoku in enumerate(loader.log):\n",
    "        loader.reset(num=kyoku_index+1)\n",
    "        # 从每局中随机提取slice_num个局面\n",
    "        random_index = np.random.choice(len(loader.log[kyoku_index]), slice_num, replace=False)\n",
    "        random_index.sort()\n",
    "        # print(random_index)\n",
    "        \n",
    "        for i in range(max(random_index)+1):\n",
    "            if i in random_index:\n",
    "                output = loader.export_info()\n",
    "                encoder = Encoder(output)\n",
    "                encoded_seq, masked_info = encoder.encode()\n",
    "                # print(encoded_seq.shape, masked_info.shape)\n",
    "                seq_buffer.append(encoded_seq.T)\n",
    "                masked_info_buffer.append(masked_info.T)\n",
    "            if len(seq_buffer) == 64:\n",
    "                # batch的形状为(64, max_seq_len, 55)\n",
    "                max_seq_len = max([len(seq) for seq in seq_buffer])\n",
    "                batch_seq = np.zeros((64, max_seq_len, 55))\n",
    "                batch_masked_info = np.zeros((64, max_seq_len, 1))\n",
    "                for i, seq in enumerate(seq_buffer):\n",
    "                    batch_seq[i, :len(seq)] = seq\n",
    "                for i, masked_info in enumerate(masked_info_buffer):\n",
    "                    batch_masked_info[i, :len(masked_info)] = masked_info\n",
    "                np.save(os.path.join(output_path, f\"batch_{batch_index}_seq.npy\"), batch_seq)\n",
    "                np.save(os.path.join(output_path, f\"batch_{batch_index}_masked_info.npy\"), batch_masked_info)\n",
    "                batch_index += 1\n",
    "                seq_buffer = []\n",
    "                masked_info_buffer = []\n",
    "\n",
    "            loader.step_forward()\n",
    "        \n"
   ]
  },
  {
   "cell_type": "code",
   "execution_count": 5,
   "metadata": {},
   "outputs": [
    {
     "data": {
      "text/plain": [
       "52"
      ]
     },
     "execution_count": 5,
     "metadata": {},
     "output_type": "execute_result"
    }
   ],
   "source": [
    "len(seq_buffer)"
   ]
  },
  {
   "cell_type": "code",
   "execution_count": 8,
   "metadata": {},
   "outputs": [
    {
     "name": "stdout",
     "output_type": "stream",
     "text": [
      "[[1. 1. 1. ... 1. 1. 1.]\n",
      " [0. 1. 0. ... 0. 0. 0.]\n",
      " [0. 0. 0. ... 0. 0. 0.]\n",
      " ...\n",
      " [0. 0. 0. ... 0. 0. 0.]\n",
      " [0. 0. 0. ... 0. 0. 0.]\n",
      " [0. 0. 0. ... 0. 0. 0.]]\n"
     ]
    }
   ],
   "source": [
    "# 读取数据\n",
    "batch = np.load(os.path.join(output_path, \"batch_0_seq.npy\"))\n"
   ]
  }
 ],
 "metadata": {
  "kernelspec": {
   "display_name": "Mahjong",
   "language": "python",
   "name": "python3"
  },
  "language_info": {
   "codemirror_mode": {
    "name": "ipython",
    "version": 3
   },
   "file_extension": ".py",
   "mimetype": "text/x-python",
   "name": "python",
   "nbconvert_exporter": "python",
   "pygments_lexer": "ipython3",
   "version": "3.12.2"
  }
 },
 "nbformat": 4,
 "nbformat_minor": 2
}
