{
 "cells": [
  {
   "cell_type": "markdown",
   "metadata": {},
   "source": [
    "## 根据天凤的牌谱文件生成训练使用的dataset"
   ]
  },
  {
   "cell_type": "code",
   "execution_count": null,
   "metadata": {},
   "outputs": [],
   "source": [
    "import os, sys, re, json, torch\n",
    "from components.Taikyoku_loader import Taikyoku_loader\n",
    "from components.encoder import Encoder\n",
    "from enum import Enum\n",
    "import numpy as np\n",
    "\n",
    "def default(obj):\n",
    "    if isinstance(obj, Enum):\n",
    "        return obj.value\n",
    "    raise TypeError(f\"{obj!r} is not JSON serializable\")\n",
    "\n",
    "os.makedirs(\"../../dataset/Pretaining\", exist_ok=True)\n",
    "dataset_path = \"../../dataset/Tenhou/2011_nan_4_kuitan_aka\"\n",
    "output_path = \"../../dataset/Pretaining\"\n",
    "\n",
    "seq_buffer = []\n",
    "masked_info_buffer = []\n",
    "batch_index = 0\n",
    "\n",
    "# 日志文件名的正则表达式，数字开头\".log\"结尾\n",
    "file_name_pattern = re.compile(r\"^\\d+\\.log$\")\n",
    "file_list = os.listdir(dataset_path)\n",
    "file_list = [f for f in file_list if file_name_pattern.match(f)]\n",
    "\n",
    "# 读取所有日志文件\n",
    "for file in file_list:\n",
    "    loader = Taikyoku_loader(os.path.join(dataset_path, file))\n",
    "\n",
    "    # 从每场对局中随机提取3个局面\n",
    "    for kyoku_index, kyoku in enumerate(loader.log):\n",
    "        loader.reset(num=kyoku_index+1)\n",
    "        # 从每局中随机提取3个局面\n",
    "        random_index = np.random.randint(1, len(kyoku)-1, 4)\n",
    "        print(random_index)\n",
    "        for action_index, _ in enumerate(kyoku):\n",
    "            loader.step_forward()\n",
    "            if action_index in random_index:\n",
    "                output = loader.export_info()\n",
    "                encoder = Encoder(output)\n",
    "                encoded_seq, masked_info = encoder.encode()\n",
    "                seq_buffer.append(encoded_seq.T)\n",
    "                masked_info_buffer.append(masked_info.T)\n",
    "\n",
    "                # if len(seq_buffer) == 320:\n",
    "                #     # 转换为tensor并保存(320, seq_len, dim)\n",
    "                #     seq_tensor = torch.tensor(seq_buffer, dtype=torch.float32)\n",
    "                #     batch_index += 1\n",
    "                #     seq_buffer = []\n",
    "                #     masked_info_buffer = []\n",
    "        \n"
   ]
  },
  {
   "cell_type": "code",
   "execution_count": null,
   "metadata": {},
   "outputs": [],
   "source": [
    "load_tensor = torch.load(os.path.join(output_path, f\"seq_0.pt\"))\n",
    "print(load_tensor)"
   ]
  }
 ],
 "metadata": {
  "kernelspec": {
   "display_name": "Mahjong",
   "language": "python",
   "name": "python3"
  },
  "language_info": {
   "codemirror_mode": {
    "name": "ipython",
    "version": 3
   },
   "file_extension": ".py",
   "mimetype": "text/x-python",
   "name": "python",
   "nbconvert_exporter": "python",
   "pygments_lexer": "ipython3",
   "version": "3.8.18"
  }
 },
 "nbformat": 4,
 "nbformat_minor": 2
}
