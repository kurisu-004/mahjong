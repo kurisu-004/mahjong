{
 "cells": [
  {
   "cell_type": "code",
   "execution_count": 1,
   "metadata": {},
   "outputs": [],
   "source": [
    "from components.Taikyoku_loader import Taikyoku_loader\n",
    "from components.encoder import Encoder\n",
    "import os, re, random\n",
    "\n",
    "path = \"/home/renn/Code/mahjong/dataset/Tenhou\"\n",
    "files = os.listdir(path)\n",
    "pattern = re.compile(r'test.log')\n",
    "for file in files:\n",
    "    if pattern.search(file):\n",
    "        loader = Taikyoku_loader(os.path.join(path, file))\n",
    "        loader.reset(num=2)"
   ]
  },
  {
   "cell_type": "code",
   "execution_count": 2,
   "metadata": {},
   "outputs": [
    {
     "name": "stdout",
     "output_type": "stream",
     "text": [
      "player 1 action Action.DRAW tile 6m\n",
      "=====================================\n",
      "场风： Bakaze.EAST\n",
      "局数： 2\n",
      "本场： 0\n",
      "宝牌指示牌： [52]\n",
      "剩余摸牌数： 69\n",
      "立直棒数： 0\n",
      "拱托数： 0\n",
      "庄家： 1\n",
      "牌山： [1, 3, 4, 5, 9, 10, 15, 16, 17, 20, 22, 23, 25, 28, 29, 30, 31, 32, 33, 34, 35, 36, 37, 39, 40, 41, 42, 43, 46, 48, 50, 51, 52, 53, 54, 55, 56, 57, 59, 61, 62, 63, 65, 68, 70, 71, 73, 74, 77, 78, 79, 81, 82, 84, 87, 89, 90, 93, 94, 98, 99, 100, 103, 105, 106, 107, 109, 110, 111, 112, 113, 114, 115, 117, 120, 121, 123, 125, 126, 129, 130, 131, 132]\n",
      "=====================================\n",
      "\n",
      "\n",
      "player 0\n",
      "====================================\n",
      "手牌： ['1m', '3m', '5m', '3p', '9p', '3s', '3s', '0s', '6s', '7s', '1z', '4z', '6z']\n",
      "副露： []\n",
      "弃牌： []\n",
      "点数： 30900\n",
      "立直： False\n",
      "一发： False\n",
      "听牌： False\n",
      "====================================\n",
      "\n",
      "\n",
      "player 1\n",
      "====================================\n",
      "手牌： ['3m', '4m', '5m', '7m', '6p', '7p', '8p', '1s', '1s', '4s', '4s', '6s', '8s', '6m']\n",
      "副露： []\n",
      "弃牌： []\n",
      "点数： 17900\n",
      "立直： False\n",
      "一发： False\n",
      "听牌： False\n",
      "====================================\n",
      "\n",
      "\n",
      "player 2\n",
      "====================================\n",
      "手牌： ['2m', '4m', '4m', '7m', '7m', '3p', '8p', '7s', '3z', '3z', '5z', '7z', '7z']\n",
      "副露： []\n",
      "弃牌： []\n",
      "点数： 17900\n",
      "立直： False\n",
      "一发： False\n",
      "听牌： False\n",
      "====================================\n",
      "\n",
      "\n",
      "player 3\n",
      "====================================\n",
      "手牌： ['1m', '2m', '1p', '3p', '4p', '8p', '2s', '5s', '8s', '9s', '3z', '5z', '7z']\n",
      "副露： []\n",
      "弃牌： []\n",
      "点数： 33300\n",
      "立直： False\n",
      "一发： False\n",
      "听牌： False\n",
      "====================================\n",
      "\n",
      "\n"
     ]
    }
   ],
   "source": [
    "loader.step_forward()\n",
    "loader.print_loader()"
   ]
  }
 ],
 "metadata": {
  "kernelspec": {
   "display_name": "Mahjong",
   "language": "python",
   "name": "python3"
  },
  "language_info": {
   "codemirror_mode": {
    "name": "ipython",
    "version": 3
   },
   "file_extension": ".py",
   "mimetype": "text/x-python",
   "name": "python",
   "nbconvert_exporter": "python",
   "pygments_lexer": "ipython3",
   "version": "3.8.18"
  }
 },
 "nbformat": 4,
 "nbformat_minor": 2
}
