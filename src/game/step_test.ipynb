{
 "cells": [
  {
   "cell_type": "code",
   "execution_count": null,
   "metadata": {},
   "outputs": [],
   "source": [
    "from components.Taikyoku_loader import Taikyoku_loader\n",
    "from components.encoder import Encoder\n",
    "import os, re, random\n",
    "\n",
    "path = \"/home/renn/Code/mahjong/dataset/Tenhou\"\n",
    "files = os.listdir(path)\n",
    "pattern = re.compile(r'test.log')\n",
    "for file in files:\n",
    "    if pattern.search(file):\n",
    "        loader = Taikyoku_loader(os.path.join(path, file))\n",
    "        loader.reset(num=2)"
   ]
  },
  {
   "cell_type": "code",
   "execution_count": null,
   "metadata": {},
   "outputs": [],
   "source": [
    "loader.step_forward()\n",
    "loader.print_loader()\n",
    "print(loader.taikyoku_info.record)\n",
    "print(loader.export_info())"
   ]
  }
 ],
 "metadata": {
  "kernelspec": {
   "display_name": "Mahjong",
   "language": "python",
   "name": "python3"
  },
  "language_info": {
   "codemirror_mode": {
    "name": "ipython",
    "version": 3
   },
   "file_extension": ".py",
   "mimetype": "text/x-python",
   "name": "python",
   "nbconvert_exporter": "python",
   "pygments_lexer": "ipython3",
   "version": "3.8.18"
  }
 },
 "nbformat": 4,
 "nbformat_minor": 2
}
