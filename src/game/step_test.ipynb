{
 "cells": [
  {
   "cell_type": "code",
   "execution_count": 1,
   "metadata": {},
   "outputs": [],
   "source": [
    "from components.Taikyoku_loader import Taikyoku_loader\n",
    "from components.encoder import Encoder\n",
    "import os, re, random\n",
    "\n",
    "path = \"/home/renn/Code/mahjong/dataset/Tenhou\"\n",
    "files = os.listdir(path)\n",
    "pattern = re.compile(r'test.log')\n",
    "for file in files:\n",
    "    if pattern.search(file):\n",
    "        loader = Taikyoku_loader(os.path.join(path, file))\n",
    "        loader.reset(num=3)"
   ]
  },
  {
   "cell_type": "code",
   "execution_count": 238,
   "metadata": {},
   "outputs": [
    {
     "name": "stdout",
     "output_type": "stream",
     "text": [
      "player 3 摸牌 9m\n"
     ]
    }
   ],
   "source": [
    "loader.step_forward()"
   ]
  },
  {
   "cell_type": "code",
   "execution_count": 239,
   "metadata": {},
   "outputs": [
    {
     "name": "stdout",
     "output_type": "stream",
     "text": [
      "=====================================\n",
      "场风： Bakaze.EAST\n",
      "局数： 1\n",
      "本场： 1\n",
      "宝牌指示牌： [124, 3, 112]\n",
      "剩余摸牌数： 12\n",
      "立直棒数： 0\n",
      "拱托数： 300\n",
      "庄家： 0\n",
      "牌山： [3, 6, 17, 20, 24, 35, 44, 53, 54, 55, 59, 77, 83, 84, 89, 92, 97, 98, 105, 106, 107, 112, 121, 124, 127, 132]\n",
      "=====================================\n",
      "\n",
      "\n",
      "player 0\n",
      "====================================\n",
      "手牌： ['2m', '3m', '5m', '6m', '8m', '4p', '4p', '4p', '6s', '7s', '8s', '2z', '2z']\n",
      "副露： []\n",
      "弃牌： [('1p', False), ('6p', False), ('6s', False), ('3z', True), ('6m', True), ('2s', False), ('1z', True), ('6z', True), ('9p', False), ('9p', False), ('9p', False), ('4z', False), ('4s', False), ('1s', False)]\n",
      "点数： 37000\n",
      "立直： False\n",
      "一发： False\n",
      "听牌： False\n",
      "====================================\n",
      "\n",
      "\n",
      "player 1\n",
      "====================================\n",
      "手牌： ['2m', '4m', '7m', '8m', '9m', '2p', '4p', '6p', '1s', '3s', '3s', '4s', '0s']\n",
      "副露： []\n",
      "弃牌： [('9p', False), ('9s', False), ('1p', False), ('2z', False), ('1p', True), ('2p', True), ('1z', False), ('4m', False), ('3z', False), ('6z', False), ('6z', False), ('7z', False), ('7z', False), ('1s', True)]\n",
      "点数： 21000\n",
      "立直： False\n",
      "一发： False\n",
      "听牌： False\n",
      "====================================\n",
      "\n",
      "\n",
      "player 2\n",
      "====================================\n",
      "手牌： ['2m', '3m', '3m', '4m', '5m', '0p', '3s', '5s', '8s', '8s']\n",
      "副露： [[64, 65, 66, 67]]\n",
      "弃牌： [('1m', False), ('4z', False), ('7z', False), ('3z', False), ('6z', False), ('7m', True), ('8s', True), ('2p', True), ('1m', False), ('5z', True), ('2s', False), ('3p', True), ('1s', False), ('3p', True)]\n",
      "点数： 21000\n",
      "立直： False\n",
      "一发： False\n",
      "听牌： False\n",
      "====================================\n",
      "\n",
      "\n",
      "player 3\n",
      "====================================\n",
      "手牌： ['3m', '4m', '0m', '6m', '7m', '8m', '9m', '5s', '6s', '7s', '9m']\n",
      "副露： [[60, 61, 62, 63]]\n",
      "弃牌： [('5z', True), ('4z', False), ('1m', False), ('1z', False), ('2s', False), ('3z', True), ('8m', False), ('3p', False), ('1p', True), ('2p', True), ('1z', True), ('4s', True), ('6p', True)]\n",
      "点数： 37000\n",
      "立直： True\n",
      "一发： False\n",
      "听牌： False\n",
      "====================================\n",
      "\n",
      "\n"
     ]
    }
   ],
   "source": [
    "loader.print_loader()"
   ]
  }
 ],
 "metadata": {
  "kernelspec": {
   "display_name": "Mahjong",
   "language": "python",
   "name": "python3"
  },
  "language_info": {
   "codemirror_mode": {
    "name": "ipython",
    "version": 3
   },
   "file_extension": ".py",
   "mimetype": "text/x-python",
   "name": "python",
   "nbconvert_exporter": "python",
   "pygments_lexer": "ipython3",
   "version": "3.8.18"
  }
 },
 "nbformat": 4,
 "nbformat_minor": 2
}
