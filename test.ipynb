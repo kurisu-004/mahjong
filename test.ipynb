{
 "cells": [
  {
   "cell_type": "markdown",
   "metadata": {},
   "source": [
    "## 测试环境"
   ]
  },
  {
   "cell_type": "code",
   "execution_count": null,
   "metadata": {},
   "outputs": [],
   "source": [
    "import pymahjong as mj\n",
    "import numpy as np\n",
    "\n",
    "env = mj.MahjongEnv()\n",
    "seed = \"mt19937ar-sha512-n288-base64,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\"\n",
    "env.reset(seed=seed)"
   ]
  },
  {
   "cell_type": "code",
   "execution_count": null,
   "metadata": {},
   "outputs": [],
   "source": [
    "curr_pid = env.get_curr_player_id()\n",
    "print(\"Current player id: \", curr_pid)\n",
    "valid_actions = env.get_valid_actions()\n",
    "print(\"Valid actions: \", valid_actions)\n"
   ]
  },
  {
   "cell_type": "code",
   "execution_count": null,
   "metadata": {},
   "outputs": [],
   "source": [
    "env.step(curr_pid, 34)"
   ]
  },
  {
   "cell_type": "code",
   "execution_count": null,
   "metadata": {},
   "outputs": [],
   "source": [
    "env.t.players[1].hand_to_string()"
   ]
  },
  {
   "cell_type": "markdown",
   "metadata": {},
   "source": [
    "## 使用PaipuReplayer对天凤的牌谱进行预处理"
   ]
  },
  {
   "cell_type": "code",
   "execution_count": null,
   "metadata": {},
   "outputs": [],
   "source": [
    "import pymahjong as mj\n",
    "import numpy as np\n",
    "from pymahjong import MahjongPyWrapper as mp\n",
    "from pymahjong.extract_data import *\n",
    "import os\n",
    "\n",
    "seed_str = \"mt19937ar-sha512-n288-base64,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\"\n",
    "prefix = \"mt19937ar-sha512-n288-base64,\"\n",
    "path = os.getcwd() + \"/dataset\"\n",
    "filename = \"test.log\"\n",
    "seed = seed_str[len(prefix):]\n",
    "inst = mp.TenhouShuffle.instance()\n",
    "yama = inst.generate_yama()\n",
    "scores = [25000, 25000, 25000, 25000]\n",
    "riichi_sticks = 0\n",
    "honba = 0\n",
    "game_order = 0\n",
    "oya_id = 0\n",
    "\n",
    "# myReplay = myPaipuReplay(path=path, paipu_list=[filename])\n",
    "# myReplay._paipu_replay(path=path, paipu=filename)\n",
    "\n",
    "replayer = mp.PaipuReplayer()\n",
    "replayer.set_write_log(True)\n",
    "replayer.init(yama, scores, riichi_sticks, honba, game_order, oya_id)\n",
    "print(yama)\n",
    "\n"
   ]
  },
  {
   "cell_type": "markdown",
   "metadata": {},
   "source": [
    "## 牌局进程查看"
   ]
  },
  {
   "cell_type": "code",
   "execution_count": null,
   "metadata": {},
   "outputs": [],
   "source": [
    "# 查看当前局面和玩家手牌\n",
    "print(\"当前阶段：\", replayer.get_phase())\n",
    "print(\"正在响应的玩家：\", replayer.table.who_make_selection())\n",
    "print(\"玩家0:\", replayer.table.players[0].hand_to_string())\n",
    "print(\"玩家1:\", replayer.table.players[1].hand_to_string())\n",
    "print(\"玩家2:\", replayer.table.players[2].hand_to_string())\n",
    "print(\"玩家3:\", replayer.table.players[3].hand_to_string())"
   ]
  },
  {
   "cell_type": "code",
   "execution_count": null,
   "metadata": {},
   "outputs": [],
   "source": [
    "self_actions = replayer.get_self_actions()\n",
    "response_actions = replayer.get_response_actions()\n",
    "print(\"可选主动动作：\")\n",
    "for i, action in enumerate(self_actions):\n",
    "    print(i, action.to_string())\n",
    "print(\"可选响应动作：\")\n",
    "for i, action in enumerate(response_actions):\n",
    "    print(i, action.to_string())"
   ]
  },
  {
   "cell_type": "code",
   "execution_count": null,
   "metadata": {},
   "outputs": [],
   "source": [
    "replayer.make_selection(0)"
   ]
  },
  {
   "cell_type": "markdown",
   "metadata": {},
   "source": [
    "## 天凤牌谱回放"
   ]
  },
  {
   "cell_type": "code",
   "execution_count": null,
   "metadata": {},
   "outputs": [],
   "source": [
    "import pymahjong as mj\n",
    "import numpy as np\n",
    "from pymahjong import tenhou_paipu_check as tp\n",
    "# from pymahjong import extract_data as ed\n",
    "import os\n",
    "\n",
    "path = os.getcwd() + \"/dataset\"\n",
    "filename = \"2020_1.log\"\n",
    "\n",
    "tp.paipu_replay_1(path=path, filename=filename)"
   ]
  },
  {
   "cell_type": "code",
   "execution_count": 1,
   "metadata": {},
   "outputs": [],
   "source": [
    "import pymahjong as mj\n",
    "import numpy as np\n",
    "# from pymahjong import tenhou_paipu_check as tp\n",
    "from pymahjong import extract_data as ed\n",
    "import os\n",
    "\n",
    "path = os.getcwd() + \"/dataset\"\n",
    "filename = \"2020_1.log\"\n",
    "\n",
    "myreplayer = ed.myPaipuReplay(path=path, paipu_list=[filename])\n",
    "replayer = myreplayer._paipu_replay(path=path, paipu=filename)\n",
    "# myreplayer.action_buffer[0]"
   ]
  },
  {
   "cell_type": "code",
   "execution_count": 2,
   "metadata": {},
   "outputs": [
    {
     "name": "stdout",
     "output_type": "stream",
     "text": [
      "共有7局\n",
      "[{'scores': [25000, 25000, 25000, 25000], 'oya_id': 0, 'honba': 0, 'riichi_sticks': 0, 'dora_tiles': [46]}, 3, 59, 83, 143, 182, 2, 50, 185, 77, 141, 181, 35, 64, 100, 141, 184, 189, 65, 110, 122, 177, 25, 62, 96, 112, 166, 21, 58, 95, 123, 175, 31, 68, 108, 141, 167, 6, 43, 77, 115, 181, 11, 48, 185, 109, 189, 46, 75, 209]\n",
      "[['1m', '4m', '6m', '7m', '8m', '9m', '3p', '2s', '7s', '8s', '6z', '7z', '7z', '3m'], ['3m', '9m', '1p', '2p', '2p', '3p', '3p', '6p', '9p', '1s', '2s', '5z', '6z'], ['4m', '5m', '1p', '0p', '7p', '9p', '9p', '2s', '3s', '5s', '8s', '9s', '3z'], ['3m', '0m', '6m', '7m', '4p', '8p', '3s', '4s', '6s', '7s', '9s', '5z', '7z']]\n",
      "(740,)\n"
     ]
    }
   ],
   "source": [
    "print(f\"共有{len(myreplayer.action_record)}局\")\n",
    "print(myreplayer.action_record[0][0])\n",
    "tehai_vector = []\n",
    "for token in myreplayer.tehai_record[0][0]:\n",
    "    tiles = ed.parse_hand_and_calls(token)\n",
    "    vector = ed.encode_tiles(tiles)\n",
    "\n"
   ]
  },
  {
   "cell_type": "code",
   "execution_count": null,
   "metadata": {},
   "outputs": [],
   "source": [
    "from model_predict_hand import *\n",
    "\n",
    "embedding = MahjongEmbedding()"
   ]
  }
 ],
 "metadata": {
  "kernelspec": {
   "display_name": "RL",
   "language": "python",
   "name": "python3"
  },
  "language_info": {
   "codemirror_mode": {
    "name": "ipython",
    "version": 3
   },
   "file_extension": ".py",
   "mimetype": "text/x-python",
   "name": "python",
   "nbconvert_exporter": "python",
   "pygments_lexer": "ipython3",
   "version": "3.12.2"
  }
 },
 "nbformat": 4,
 "nbformat_minor": 2
}
